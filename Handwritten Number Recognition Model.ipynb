{
 "cells": [
  {
   "cell_type": "code",
   "execution_count": 133,
   "metadata": {},
   "outputs": [],
   "source": [
    "%matplotlib inline\n",
    "import numpy as np\n",
    "import matplotlib.pyplot as plt\n",
    "from keras.models import model_from_json\n",
    "from keras.optimizers import SGD\n",
    "from keras.optimizers import Adam"
   ]
  },
  {
   "cell_type": "code",
   "execution_count": 134,
   "metadata": {},
   "outputs": [],
   "source": [
    "from keras.datasets import mnist"
   ]
  },
  {
   "cell_type": "code",
   "execution_count": 135,
   "metadata": {},
   "outputs": [],
   "source": [
    "(x_train, y_train), (x_test, y_test) = mnist.load_data()"
   ]
  },
  {
   "cell_type": "code",
   "execution_count": 136,
   "metadata": {},
   "outputs": [
    {
     "data": {
      "text/plain": [
       "10000"
      ]
     },
     "execution_count": 136,
     "metadata": {},
     "output_type": "execute_result"
    }
   ],
   "source": [
    "len(x_test)"
   ]
  },
  {
   "cell_type": "code",
   "execution_count": 138,
   "metadata": {},
   "outputs": [
    {
     "data": {
      "text/plain": [
       "(60000, 28, 28)"
      ]
     },
     "execution_count": 138,
     "metadata": {},
     "output_type": "execute_result"
    }
   ],
   "source": [
    "x_train.shape"
   ]
  },
  {
   "cell_type": "code",
   "execution_count": 139,
   "metadata": {},
   "outputs": [
    {
     "data": {
      "text/plain": [
       "(10000, 28, 28)"
      ]
     },
     "execution_count": 139,
     "metadata": {},
     "output_type": "execute_result"
    }
   ],
   "source": [
    "x_test.shape"
   ]
  },
  {
   "cell_type": "code",
   "execution_count": 140,
   "metadata": {},
   "outputs": [],
   "source": [
    "# reshape the data\n",
    "x_train = x_train.reshape(60000, 784)\n",
    "x_test = x_test.reshape(10000, 784)"
   ]
  },
  {
   "cell_type": "code",
   "execution_count": 141,
   "metadata": {},
   "outputs": [],
   "source": [
    "from keras.utils import np_utils\n",
    "y_train = np_utils.to_categorical(y_train, 10)\n",
    "y_test = np_utils.to_categorical(y_test, 10)"
   ]
  },
  {
   "cell_type": "code",
   "execution_count": 142,
   "metadata": {},
   "outputs": [
    {
     "data": {
      "text/plain": [
       "array([0., 0., 0., 0., 0., 0., 0., 0., 0., 1.], dtype=float32)"
      ]
     },
     "execution_count": 142,
     "metadata": {},
     "output_type": "execute_result"
    }
   ],
   "source": [
    "y_train[87]"
   ]
  },
  {
   "cell_type": "code",
   "execution_count": 143,
   "metadata": {},
   "outputs": [],
   "source": [
    "from keras.models import Sequential\n",
    "from keras.layers import Dense, Activation\n",
    "from keras.optimizers import SGD\n",
    "from keras.optimizers import Adam\n",
    "from keras.utils import np_utils"
   ]
  },
  {
   "cell_type": "markdown",
   "metadata": {},
   "source": [
    "# Optimizer : Adam\n",
    "# Activation Function : SGD\n",
    "# Nomalization : no\n",
    "# Dense : 4, 2, 10"
   ]
  },
  {
   "cell_type": "code",
   "execution_count": 160,
   "metadata": {},
   "outputs": [],
   "source": [
    "model = Sequential()"
   ]
  },
  {
   "cell_type": "code",
   "execution_count": 162,
   "metadata": {},
   "outputs": [],
   "source": [
    "model.add(Dense(4, input_dim=784))\n",
    "model.add(Activation('sigmoid'))\n",
    "model.add(Dense(2))\n",
    "model.add(Activation('sigmoid'))\n",
    "model.add(Dense(10))\n",
    "model.add(Activation('softmax'))"
   ]
  },
  {
   "cell_type": "code",
   "execution_count": 163,
   "metadata": {},
   "outputs": [],
   "source": [
    "model.compile(loss='mse', optimizer=Adam(lr=0.001,beta_1=0.9, beta_2=0.999, epsilon=None, decay=0.0, amsgrad=False), metrics=['accuracy'])"
   ]
  },
  {
   "cell_type": "code",
   "execution_count": 164,
   "metadata": {},
   "outputs": [
    {
     "name": "stdout",
     "output_type": "stream",
     "text": [
      "_________________________________________________________________\n",
      "Layer (type)                 Output Shape              Param #   \n",
      "=================================================================\n",
      "dense_21 (Dense)             (None, 4)                 3140      \n",
      "_________________________________________________________________\n",
      "activation_21 (Activation)   (None, 4)                 0         \n",
      "_________________________________________________________________\n",
      "dense_22 (Dense)             (None, 2)                 10        \n",
      "_________________________________________________________________\n",
      "activation_22 (Activation)   (None, 2)                 0         \n",
      "_________________________________________________________________\n",
      "dense_23 (Dense)             (None, 10)                30        \n",
      "_________________________________________________________________\n",
      "activation_23 (Activation)   (None, 10)                0         \n",
      "=================================================================\n",
      "Total params: 3,180\n",
      "Trainable params: 3,180\n",
      "Non-trainable params: 0\n",
      "_________________________________________________________________\n"
     ]
    }
   ],
   "source": [
    "model.summary()"
   ]
  },
  {
   "cell_type": "code",
   "execution_count": 204,
   "metadata": {},
   "outputs": [
    {
     "name": "stdout",
     "output_type": "stream",
     "text": [
      "Train on 60000 samples, validate on 10000 samples\n",
      "Epoch 1/40\n",
      "60000/60000 [==============================] - 5s 90us/step - loss: 0.0430 - acc: 0.6801 - val_loss: 0.0411 - val_acc: 0.6947\n",
      "Epoch 2/40\n",
      "60000/60000 [==============================] - 6s 101us/step - loss: 0.0431 - acc: 0.6782 - val_loss: 0.0426 - val_acc: 0.6754\n",
      "Epoch 3/40\n",
      "60000/60000 [==============================] - 6s 93us/step - loss: 0.0431 - acc: 0.6779 - val_loss: 0.0416 - val_acc: 0.6906\n",
      "Epoch 4/40\n",
      "60000/60000 [==============================] - 5s 76us/step - loss: 0.0426 - acc: 0.6805 - val_loss: 0.0440 - val_acc: 0.6675\n",
      "Epoch 5/40\n",
      "60000/60000 [==============================] - 4s 68us/step - loss: 0.0423 - acc: 0.6798 - val_loss: 0.0414 - val_acc: 0.6856\n",
      "Epoch 6/40\n",
      "60000/60000 [==============================] - 4s 66us/step - loss: 0.0431 - acc: 0.6809 - val_loss: 0.0437 - val_acc: 0.6827\n",
      "Epoch 7/40\n",
      "60000/60000 [==============================] - 5s 76us/step - loss: 0.0427 - acc: 0.6800 - val_loss: 0.0418 - val_acc: 0.6887\n",
      "Epoch 8/40\n",
      "60000/60000 [==============================] - 4s 71us/step - loss: 0.0426 - acc: 0.6809 - val_loss: 0.0431 - val_acc: 0.6825\n",
      "Epoch 9/40\n",
      "60000/60000 [==============================] - 4s 69us/step - loss: 0.0436 - acc: 0.6745 - val_loss: 0.0415 - val_acc: 0.6874\n",
      "Epoch 10/40\n",
      "60000/60000 [==============================] - 4s 71us/step - loss: 0.0428 - acc: 0.6761 - val_loss: 0.0418 - val_acc: 0.6840\n",
      "Epoch 11/40\n",
      "60000/60000 [==============================] - 4s 70us/step - loss: 0.0418 - acc: 0.6862 - val_loss: 0.0401 - val_acc: 0.7001\n",
      "Epoch 12/40\n",
      "60000/60000 [==============================] - 4s 73us/step - loss: 0.0427 - acc: 0.6835 - val_loss: 0.0417 - val_acc: 0.6903\n",
      "Epoch 13/40\n",
      "60000/60000 [==============================] - 5s 78us/step - loss: 0.0429 - acc: 0.6763 - val_loss: 0.0425 - val_acc: 0.6707\n",
      "Epoch 14/40\n",
      "60000/60000 [==============================] - 5s 78us/step - loss: 0.0430 - acc: 0.6739 - val_loss: 0.0455 - val_acc: 0.6556\n",
      "Epoch 15/40\n",
      "60000/60000 [==============================] - 4s 69us/step - loss: 0.0439 - acc: 0.6673 - val_loss: 0.0409 - val_acc: 0.6902\n",
      "Epoch 16/40\n",
      "60000/60000 [==============================] - 4s 70us/step - loss: 0.0428 - acc: 0.6773 - val_loss: 0.0415 - val_acc: 0.6826\n",
      "Epoch 17/40\n",
      "60000/60000 [==============================] - 4s 70us/step - loss: 0.0423 - acc: 0.6800 - val_loss: 0.0405 - val_acc: 0.6899\n",
      "Epoch 18/40\n",
      "60000/60000 [==============================] - 4s 71us/step - loss: 0.0426 - acc: 0.6734 - val_loss: 0.0404 - val_acc: 0.6905\n",
      "Epoch 19/40\n",
      "60000/60000 [==============================] - 4s 70us/step - loss: 0.0419 - acc: 0.6808 - val_loss: 0.0409 - val_acc: 0.6843\n",
      "Epoch 20/40\n",
      "60000/60000 [==============================] - 4s 70us/step - loss: 0.0423 - acc: 0.6758 - val_loss: 0.0411 - val_acc: 0.6837\n",
      "Epoch 21/40\n",
      "60000/60000 [==============================] - 4s 72us/step - loss: 0.0439 - acc: 0.6670 - val_loss: 0.0420 - val_acc: 0.6793\n",
      "Epoch 22/40\n",
      "60000/60000 [==============================] - 4s 71us/step - loss: 0.0421 - acc: 0.6790 - val_loss: 0.0407 - val_acc: 0.6890\n",
      "Epoch 23/40\n",
      "60000/60000 [==============================] - 4s 70us/step - loss: 0.0430 - acc: 0.6736 - val_loss: 0.0420 - val_acc: 0.6787\n",
      "Epoch 24/40\n",
      "60000/60000 [==============================] - 4s 72us/step - loss: 0.0426 - acc: 0.6854 - val_loss: 0.0419 - val_acc: 0.6895\n",
      "Epoch 25/40\n",
      "60000/60000 [==============================] - 4s 73us/step - loss: 0.0428 - acc: 0.6844 - val_loss: 0.0406 - val_acc: 0.6912\n",
      "Epoch 26/40\n",
      "60000/60000 [==============================] - 4s 69us/step - loss: 0.0418 - acc: 0.6864 - val_loss: 0.0419 - val_acc: 0.6898\n",
      "Epoch 27/40\n",
      "60000/60000 [==============================] - 4s 71us/step - loss: 0.0423 - acc: 0.6849 - val_loss: 0.0408 - val_acc: 0.6902\n",
      "Epoch 28/40\n",
      "60000/60000 [==============================] - 5s 77us/step - loss: 0.0429 - acc: 0.6832 - val_loss: 0.0413 - val_acc: 0.6970\n",
      "Epoch 29/40\n",
      "60000/60000 [==============================] - 4s 71us/step - loss: 0.0431 - acc: 0.6862 - val_loss: 0.0402 - val_acc: 0.7001\n",
      "Epoch 30/40\n",
      "60000/60000 [==============================] - 4s 69us/step - loss: 0.0419 - acc: 0.6843 - val_loss: 0.0400 - val_acc: 0.6956\n",
      "Epoch 31/40\n",
      "60000/60000 [==============================] - 4s 69us/step - loss: 0.0415 - acc: 0.6882 - val_loss: 0.0403 - val_acc: 0.6924\n",
      "Epoch 32/40\n",
      "60000/60000 [==============================] - 4s 70us/step - loss: 0.0415 - acc: 0.6834 - val_loss: 0.0402 - val_acc: 0.6911\n",
      "Epoch 33/40\n",
      "60000/60000 [==============================] - 4s 68us/step - loss: 0.0424 - acc: 0.6777 - val_loss: 0.0413 - val_acc: 0.6778\n",
      "Epoch 34/40\n",
      "60000/60000 [==============================] - 4s 68us/step - loss: 0.0430 - acc: 0.6729 - val_loss: 0.0444 - val_acc: 0.6720\n",
      "Epoch 35/40\n",
      "60000/60000 [==============================] - 4s 69us/step - loss: 0.0426 - acc: 0.6833 - val_loss: 0.0409 - val_acc: 0.6899\n",
      "Epoch 36/40\n",
      "60000/60000 [==============================] - 4s 71us/step - loss: 0.0424 - acc: 0.6792 - val_loss: 0.0413 - val_acc: 0.6866\n",
      "Epoch 37/40\n",
      "60000/60000 [==============================] - 4s 67us/step - loss: 0.0419 - acc: 0.6836 - val_loss: 0.0420 - val_acc: 0.6790\n",
      "Epoch 38/40\n",
      "60000/60000 [==============================] - 4s 69us/step - loss: 0.0429 - acc: 0.6788 - val_loss: 0.0405 - val_acc: 0.6947\n",
      "Epoch 39/40\n",
      "60000/60000 [==============================] - 4s 75us/step - loss: 0.0417 - acc: 0.6880 - val_loss: 0.0409 - val_acc: 0.6897\n",
      "Epoch 40/40\n",
      "60000/60000 [==============================] - 4s 70us/step - loss: 0.0418 - acc: 0.6850 - val_loss: 0.0406 - val_acc: 0.6890\n"
     ]
    }
   ],
   "source": [
    "history = model.fit(x_train, y_train, batch_size=64, epochs=40,\n",
    "                        verbose = 1,\n",
    "                        validation_data = (x_test, y_test))"
   ]
  },
  {
   "cell_type": "code",
   "execution_count": 205,
   "metadata": {},
   "outputs": [
    {
     "data": {
      "image/png": "[encoded data removed]",
      "text/plain": [
       "<Figure size 432x288 with 1 Axes>"
      ]
     },
     "metadata": {
      "needs_background": "light"
     },
     "output_type": "display_data"
    }
   ],
   "source": [
    "plt.plot(history.history[\"acc\"])\n",
    "\n",
    "plt.title(\"model training accuracy\")\n",
    "plt.ylabel(\"accuracy\")\n",
    "plt.xlabel(\"epoch\")\n",
    "\n",
    "plt.show()\n"
   ]
  },
  {
   "cell_type": "code",
   "execution_count": 239,
   "metadata": {},
   "outputs": [
    {
     "name": "stdout",
     "output_type": "stream",
     "text": [
      "10000/10000 [==============================] - 1s 58us/step\n",
      "loss: 0.04059037536382675\n",
      "正確率:  0.689\n"
     ]
    }
   ],
   "source": [
    "score = model.evaluate(x_test, y_test)\n",
    "print('loss:', score[0])\n",
    "print('正確率: ', score[1])"
   ]
  },
  {
   "cell_type": "markdown",
   "metadata": {},
   "source": [
    "# Activation function : Adam\n",
    "# Activation Function : SGD\n",
    "# Nomalization : YES\n",
    "# Dense : 4, 2, 10"
   ]
  },
  {
   "cell_type": "code",
   "execution_count": 218,
   "metadata": {},
   "outputs": [],
   "source": [
    "x_train_nomal = x_train / x_train.max()\n",
    "x_test_nomal = x_test / x_test.max()"
   ]
  },
  {
   "cell_type": "code",
   "execution_count": 219,
   "metadata": {},
   "outputs": [],
   "source": [
    "model_nomal = Sequential()\n",
    "model_nomal.add(Dense(4, input_dim=784))\n",
    "model_nomal.add(Activation('sigmoid'))\n",
    "model_nomal.add(Dense(2))\n",
    "model_nomal.add(Activation('sigmoid'))\n",
    "model_nomal.add(Dense(10))\n",
    "model_nomal.add(Activation('softmax'))"
   ]
  },
  {
   "cell_type": "code",
   "execution_count": 220,
   "metadata": {},
   "outputs": [],
   "source": [
    "model_nomal.compile(loss='mse', optimizer=Adam(lr=0.001,beta_1=0.9, beta_2=0.999, epsilon=None, decay=0.0, amsgrad=False), metrics=['accuracy'])"
   ]
  },
  {
   "cell_type": "code",
   "execution_count": 221,
   "metadata": {},
   "outputs": [
    {
     "name": "stdout",
     "output_type": "stream",
     "text": [
      "Train on 60000 samples, validate on 10000 samples\n",
      "Epoch 1/120\n",
      "60000/60000 [==============================] - 6s 102us/step - loss: 0.0862 - acc: 0.1506 - val_loss: 0.0830 - val_acc: 0.2162\n",
      "Epoch 2/120\n",
      "60000/60000 [==============================] - 4s 66us/step - loss: 0.0815 - acc: 0.2566 - val_loss: 0.0793 - val_acc: 0.2920\n",
      "Epoch 3/120\n",
      "60000/60000 [==============================] - 4s 66us/step - loss: 0.0770 - acc: 0.3203 - val_loss: 0.0744 - val_acc: 0.3097\n",
      "Epoch 4/120\n",
      "60000/60000 [==============================] - 4s 67us/step - loss: 0.0731 - acc: 0.3116 - val_loss: 0.0716 - val_acc: 0.3116\n",
      "Epoch 5/120\n",
      "60000/60000 [==============================] - 4s 66us/step - loss: 0.0708 - acc: 0.3164 - val_loss: 0.0697 - val_acc: 0.3150\n",
      "Epoch 6/120\n",
      "60000/60000 [==============================] - 4s 67us/step - loss: 0.0691 - acc: 0.3602 - val_loss: 0.0683 - val_acc: 0.3966\n",
      "Epoch 7/120\n",
      "60000/60000 [==============================] - 4s 68us/step - loss: 0.0678 - acc: 0.4001 - val_loss: 0.0670 - val_acc: 0.3973\n",
      "Epoch 8/120\n",
      "60000/60000 [==============================] - 4s 68us/step - loss: 0.0664 - acc: 0.4012 - val_loss: 0.0654 - val_acc: 0.3965\n",
      "Epoch 9/120\n",
      "60000/60000 [==============================] - 4s 67us/step - loss: 0.0650 - acc: 0.4040 - val_loss: 0.0644 - val_acc: 0.4021\n",
      "Epoch 10/120\n",
      "60000/60000 [==============================] - 4s 68us/step - loss: 0.0640 - acc: 0.4112 - val_loss: 0.0635 - val_acc: 0.4122\n",
      "Epoch 11/120\n",
      "60000/60000 [==============================] - 4s 69us/step - loss: 0.0633 - acc: 0.4165 - val_loss: 0.0628 - val_acc: 0.4249\n",
      "Epoch 12/120\n",
      "60000/60000 [==============================] - 4s 70us/step - loss: 0.0613 - acc: 0.4718 - val_loss: 0.0597 - val_acc: 0.4821\n",
      "Epoch 13/120\n",
      "60000/60000 [==============================] - 4s 70us/step - loss: 0.0583 - acc: 0.4959 - val_loss: 0.0576 - val_acc: 0.4915\n",
      "Epoch 14/120\n",
      "60000/60000 [==============================] - 4s 70us/step - loss: 0.0566 - acc: 0.5077 - val_loss: 0.0565 - val_acc: 0.5056\n",
      "Epoch 15/120\n",
      "60000/60000 [==============================] - 5s 78us/step - loss: 0.0556 - acc: 0.5226 - val_loss: 0.0558 - val_acc: 0.5197\n",
      "Epoch 16/120\n",
      "60000/60000 [==============================] - 4s 70us/step - loss: 0.0549 - acc: 0.5431 - val_loss: 0.0551 - val_acc: 0.5465\n",
      "Epoch 17/120\n",
      "60000/60000 [==============================] - 4s 70us/step - loss: 0.0540 - acc: 0.5678 - val_loss: 0.0543 - val_acc: 0.5759\n",
      "Epoch 18/120\n",
      "60000/60000 [==============================] - 4s 71us/step - loss: 0.0526 - acc: 0.5995 - val_loss: 0.0528 - val_acc: 0.5975\n",
      "Epoch 19/120\n",
      "60000/60000 [==============================] - 9s 150us/step - loss: 0.0512 - acc: 0.6240 - val_loss: 0.0512 - val_acc: 0.6242\n",
      "Epoch 20/120\n",
      "60000/60000 [==============================] - 4s 72us/step - loss: 0.0498 - acc: 0.6411 - val_loss: 0.0500 - val_acc: 0.6375\n",
      "Epoch 21/120\n",
      "60000/60000 [==============================] - 5s 83us/step - loss: 0.0486 - acc: 0.6548 - val_loss: 0.0487 - val_acc: 0.6597\n",
      "Epoch 22/120\n",
      "60000/60000 [==============================] - 4s 73us/step - loss: 0.0474 - acc: 0.6678 - val_loss: 0.0476 - val_acc: 0.6635\n",
      "Epoch 23/120\n",
      "60000/60000 [==============================] - 5s 76us/step - loss: 0.0464 - acc: 0.6773 - val_loss: 0.0467 - val_acc: 0.6659\n",
      "Epoch 24/120\n",
      "60000/60000 [==============================] - 4s 72us/step - loss: 0.0455 - acc: 0.6838 - val_loss: 0.0459 - val_acc: 0.6706\n",
      "Epoch 25/120\n",
      "60000/60000 [==============================] - 4s 74us/step - loss: 0.0447 - acc: 0.6894 - val_loss: 0.0451 - val_acc: 0.6803\n",
      "Epoch 26/120\n",
      "60000/60000 [==============================] - 4s 74us/step - loss: 0.0441 - acc: 0.6935 - val_loss: 0.0445 - val_acc: 0.6847\n",
      "Epoch 27/120\n",
      "60000/60000 [==============================] - 4s 73us/step - loss: 0.0435 - acc: 0.6973 - val_loss: 0.0439 - val_acc: 0.6936\n",
      "Epoch 28/120\n",
      "60000/60000 [==============================] - 4s 74us/step - loss: 0.0430 - acc: 0.7016 - val_loss: 0.0436 - val_acc: 0.6939\n",
      "Epoch 29/120\n",
      "60000/60000 [==============================] - 4s 74us/step - loss: 0.0426 - acc: 0.7041 - val_loss: 0.0430 - val_acc: 0.6975\n",
      "Epoch 30/120\n",
      "60000/60000 [==============================] - 4s 73us/step - loss: 0.0422 - acc: 0.7075 - val_loss: 0.0428 - val_acc: 0.6994\n",
      "Epoch 31/120\n",
      "60000/60000 [==============================] - 4s 72us/step - loss: 0.0418 - acc: 0.7107 - val_loss: 0.0425 - val_acc: 0.7004\n",
      "Epoch 32/120\n",
      "60000/60000 [==============================] - 4s 73us/step - loss: 0.0414 - acc: 0.7142 - val_loss: 0.0424 - val_acc: 0.7031\n",
      "Epoch 33/120\n",
      "60000/60000 [==============================] - 4s 72us/step - loss: 0.0410 - acc: 0.7167 - val_loss: 0.0417 - val_acc: 0.7147\n",
      "Epoch 34/120\n",
      "60000/60000 [==============================] - 4s 72us/step - loss: 0.0407 - acc: 0.7195 - val_loss: 0.0412 - val_acc: 0.7166\n",
      "Epoch 35/120\n",
      "60000/60000 [==============================] - 4s 72us/step - loss: 0.0403 - acc: 0.7220 - val_loss: 0.0408 - val_acc: 0.7228\n",
      "Epoch 36/120\n",
      "60000/60000 [==============================] - 4s 73us/step - loss: 0.0399 - acc: 0.7256 - val_loss: 0.0406 - val_acc: 0.7250\n",
      "Epoch 37/120\n",
      "60000/60000 [==============================] - 4s 72us/step - loss: 0.0395 - acc: 0.7289 - val_loss: 0.0402 - val_acc: 0.7280\n",
      "Epoch 38/120\n",
      "60000/60000 [==============================] - 4s 72us/step - loss: 0.0391 - acc: 0.7330 - val_loss: 0.0398 - val_acc: 0.7335\n",
      "Epoch 39/120\n",
      "60000/60000 [==============================] - 5s 79us/step - loss: 0.0387 - acc: 0.7362 - val_loss: 0.0394 - val_acc: 0.7374\n",
      "Epoch 40/120\n",
      "60000/60000 [==============================] - 5s 78us/step - loss: 0.0384 - acc: 0.7406 - val_loss: 0.0393 - val_acc: 0.7361\n",
      "Epoch 41/120\n",
      "60000/60000 [==============================] - 4s 73us/step - loss: 0.0382 - acc: 0.7427 - val_loss: 0.0389 - val_acc: 0.7403\n",
      "Epoch 42/120\n",
      "60000/60000 [==============================] - 4s 72us/step - loss: 0.0378 - acc: 0.7469 - val_loss: 0.0388 - val_acc: 0.7414\n",
      "Epoch 43/120\n",
      "60000/60000 [==============================] - 4s 72us/step - loss: 0.0377 - acc: 0.7484 - val_loss: 0.0384 - val_acc: 0.7474\n",
      "Epoch 44/120\n",
      "60000/60000 [==============================] - 4s 72us/step - loss: 0.0374 - acc: 0.7527 - val_loss: 0.0382 - val_acc: 0.7491\n",
      "Epoch 45/120\n",
      "60000/60000 [==============================] - 4s 72us/step - loss: 0.0371 - acc: 0.7545 - val_loss: 0.0383 - val_acc: 0.7459\n",
      "Epoch 46/120\n",
      "60000/60000 [==============================] - 4s 72us/step - loss: 0.0370 - acc: 0.7562 - val_loss: 0.0379 - val_acc: 0.7538\n",
      "Epoch 47/120\n",
      "60000/60000 [==============================] - 4s 71us/step - loss: 0.0367 - acc: 0.7584 - val_loss: 0.0376 - val_acc: 0.7557\n",
      "Epoch 48/120\n",
      "60000/60000 [==============================] - 4s 72us/step - loss: 0.0365 - acc: 0.7596 - val_loss: 0.0374 - val_acc: 0.7550\n",
      "Epoch 49/120\n",
      "60000/60000 [==============================] - 4s 71us/step - loss: 0.0363 - acc: 0.7614 - val_loss: 0.0374 - val_acc: 0.7556\n",
      "Epoch 50/120\n",
      "60000/60000 [==============================] - 4s 71us/step - loss: 0.0362 - acc: 0.7632 - val_loss: 0.0372 - val_acc: 0.7607\n",
      "Epoch 51/120\n",
      "60000/60000 [==============================] - 4s 71us/step - loss: 0.0360 - acc: 0.7639 - val_loss: 0.0369 - val_acc: 0.7572\n",
      "Epoch 52/120\n",
      "60000/60000 [==============================] - 4s 71us/step - loss: 0.0358 - acc: 0.7646 - val_loss: 0.0370 - val_acc: 0.7606\n",
      "Epoch 53/120\n",
      "60000/60000 [==============================] - 4s 71us/step - loss: 0.0356 - acc: 0.7659 - val_loss: 0.0367 - val_acc: 0.7613\n",
      "Epoch 54/120\n",
      "60000/60000 [==============================] - 4s 72us/step - loss: 0.0355 - acc: 0.7664 - val_loss: 0.0366 - val_acc: 0.7601\n",
      "Epoch 55/120\n",
      "60000/60000 [==============================] - 4s 70us/step - loss: 0.0353 - acc: 0.7679 - val_loss: 0.0367 - val_acc: 0.7576\n",
      "Epoch 56/120\n",
      "60000/60000 [==============================] - 4s 70us/step - loss: 0.0352 - acc: 0.7682 - val_loss: 0.0361 - val_acc: 0.7646\n",
      "Epoch 57/120\n",
      "60000/60000 [==============================] - 4s 71us/step - loss: 0.0350 - acc: 0.7692 - val_loss: 0.0362 - val_acc: 0.7638\n",
      "Epoch 58/120\n",
      "60000/60000 [==============================] - 4s 72us/step - loss: 0.0348 - acc: 0.7717 - val_loss: 0.0361 - val_acc: 0.7628\n",
      "Epoch 59/120\n"
     ]
    },
    {
     "name": "stdout",
     "output_type": "stream",
     "text": [
      "60000/60000 [==============================] - 4s 65us/step - loss: 0.0347 - acc: 0.7715 - val_loss: 0.0360 - val_acc: 0.7635\n",
      "Epoch 60/120\n",
      "60000/60000 [==============================] - 4s 65us/step - loss: 0.0346 - acc: 0.7729 - val_loss: 0.0358 - val_acc: 0.7669\n",
      "Epoch 61/120\n",
      "60000/60000 [==============================] - 4s 65us/step - loss: 0.0345 - acc: 0.7724 - val_loss: 0.0359 - val_acc: 0.7629\n",
      "Epoch 62/120\n",
      "60000/60000 [==============================] - 4s 66us/step - loss: 0.0343 - acc: 0.7736 - val_loss: 0.0360 - val_acc: 0.7598\n",
      "Epoch 63/120\n",
      "60000/60000 [==============================] - 4s 65us/step - loss: 0.0342 - acc: 0.7737 - val_loss: 0.0355 - val_acc: 0.7685\n",
      "Epoch 64/120\n",
      "60000/60000 [==============================] - 4s 66us/step - loss: 0.0341 - acc: 0.7753 - val_loss: 0.0356 - val_acc: 0.7644\n",
      "Epoch 65/120\n",
      "60000/60000 [==============================] - 4s 65us/step - loss: 0.0340 - acc: 0.7762 - val_loss: 0.0359 - val_acc: 0.7582\n",
      "Epoch 66/120\n",
      "60000/60000 [==============================] - 4s 66us/step - loss: 0.0339 - acc: 0.7764 - val_loss: 0.0353 - val_acc: 0.7681\n",
      "Epoch 67/120\n",
      "60000/60000 [==============================] - 4s 66us/step - loss: 0.0338 - acc: 0.7760 - val_loss: 0.0353 - val_acc: 0.7679\n",
      "Epoch 68/120\n",
      "60000/60000 [==============================] - 4s 66us/step - loss: 0.0337 - acc: 0.7773 - val_loss: 0.0353 - val_acc: 0.7674\n",
      "Epoch 69/120\n",
      "60000/60000 [==============================] - 4s 66us/step - loss: 0.0337 - acc: 0.7784 - val_loss: 0.0354 - val_acc: 0.7680\n",
      "Epoch 70/120\n",
      "60000/60000 [==============================] - 4s 68us/step - loss: 0.0336 - acc: 0.7775 - val_loss: 0.0352 - val_acc: 0.7704\n",
      "Epoch 71/120\n",
      "60000/60000 [==============================] - 4s 67us/step - loss: 0.0335 - acc: 0.7785 - val_loss: 0.0353 - val_acc: 0.7671\n",
      "Epoch 72/120\n",
      "60000/60000 [==============================] - 4s 67us/step - loss: 0.0335 - acc: 0.7794 - val_loss: 0.0350 - val_acc: 0.7712\n",
      "Epoch 73/120\n",
      "60000/60000 [==============================] - 4s 75us/step - loss: 0.0334 - acc: 0.7793 - val_loss: 0.0350 - val_acc: 0.7714\n",
      "Epoch 74/120\n",
      "60000/60000 [==============================] - 4s 69us/step - loss: 0.0333 - acc: 0.7806 - val_loss: 0.0349 - val_acc: 0.7683\n",
      "Epoch 75/120\n",
      "60000/60000 [==============================] - 4s 69us/step - loss: 0.0333 - acc: 0.7806 - val_loss: 0.0352 - val_acc: 0.7679\n",
      "Epoch 76/120\n",
      "60000/60000 [==============================] - 4s 68us/step - loss: 0.0332 - acc: 0.7809 - val_loss: 0.0350 - val_acc: 0.7705\n",
      "Epoch 77/120\n",
      "60000/60000 [==============================] - 4s 68us/step - loss: 0.0332 - acc: 0.7805 - val_loss: 0.0349 - val_acc: 0.7705\n",
      "Epoch 78/120\n",
      "60000/60000 [==============================] - 4s 70us/step - loss: 0.0331 - acc: 0.7814 - val_loss: 0.0351 - val_acc: 0.7707\n",
      "Epoch 79/120\n",
      "60000/60000 [==============================] - 4s 70us/step - loss: 0.0330 - acc: 0.7816 - val_loss: 0.0350 - val_acc: 0.7676\n",
      "Epoch 80/120\n",
      "60000/60000 [==============================] - 4s 72us/step - loss: 0.0330 - acc: 0.7814 - val_loss: 0.0351 - val_acc: 0.7678\n",
      "Epoch 81/120\n",
      "60000/60000 [==============================] - 4s 70us/step - loss: 0.0330 - acc: 0.7826 - val_loss: 0.0351 - val_acc: 0.7695\n",
      "Epoch 82/120\n",
      "60000/60000 [==============================] - 4s 70us/step - loss: 0.0329 - acc: 0.7831 - val_loss: 0.0348 - val_acc: 0.7689\n",
      "Epoch 83/120\n",
      "60000/60000 [==============================] - 4s 72us/step - loss: 0.0328 - acc: 0.7836 - val_loss: 0.0349 - val_acc: 0.7690\n",
      "Epoch 84/120\n",
      "60000/60000 [==============================] - 4s 71us/step - loss: 0.0328 - acc: 0.7831 - val_loss: 0.0347 - val_acc: 0.7727\n",
      "Epoch 85/120\n",
      "60000/60000 [==============================] - 4s 72us/step - loss: 0.0329 - acc: 0.7824 - val_loss: 0.0345 - val_acc: 0.7751\n",
      "Epoch 86/120\n",
      "60000/60000 [==============================] - 4s 71us/step - loss: 0.0328 - acc: 0.7828 - val_loss: 0.0349 - val_acc: 0.7709\n",
      "Epoch 87/120\n",
      "60000/60000 [==============================] - 4s 72us/step - loss: 0.0327 - acc: 0.7840 - val_loss: 0.0354 - val_acc: 0.7647\n",
      "Epoch 88/120\n",
      "60000/60000 [==============================] - 4s 70us/step - loss: 0.0327 - acc: 0.7844 - val_loss: 0.0345 - val_acc: 0.7761\n",
      "Epoch 89/120\n",
      "60000/60000 [==============================] - 4s 72us/step - loss: 0.0327 - acc: 0.7842 - val_loss: 0.0351 - val_acc: 0.7662\n",
      "Epoch 90/120\n",
      "60000/60000 [==============================] - 4s 71us/step - loss: 0.0326 - acc: 0.7847 - val_loss: 0.0348 - val_acc: 0.7709\n",
      "Epoch 91/120\n",
      "60000/60000 [==============================] - 4s 74us/step - loss: 0.0326 - acc: 0.7842 - val_loss: 0.0344 - val_acc: 0.7719\n",
      "Epoch 92/120\n",
      "60000/60000 [==============================] - 5s 75us/step - loss: 0.0325 - acc: 0.7861 - val_loss: 0.0345 - val_acc: 0.7732\n",
      "Epoch 93/120\n",
      "60000/60000 [==============================] - 4s 72us/step - loss: 0.0325 - acc: 0.7866 - val_loss: 0.0345 - val_acc: 0.7742\n",
      "Epoch 94/120\n",
      "60000/60000 [==============================] - 4s 73us/step - loss: 0.0325 - acc: 0.7859 - val_loss: 0.0345 - val_acc: 0.7721\n",
      "Epoch 95/120\n",
      "60000/60000 [==============================] - 4s 73us/step - loss: 0.0324 - acc: 0.7862 - val_loss: 0.0347 - val_acc: 0.7707\n",
      "Epoch 96/120\n",
      "60000/60000 [==============================] - 4s 71us/step - loss: 0.0324 - acc: 0.7855 - val_loss: 0.0352 - val_acc: 0.7654\n",
      "Epoch 97/120\n",
      "60000/60000 [==============================] - 4s 70us/step - loss: 0.0324 - acc: 0.7858 - val_loss: 0.0344 - val_acc: 0.7733\n",
      "Epoch 98/120\n",
      "60000/60000 [==============================] - 4s 70us/step - loss: 0.0324 - acc: 0.7865 - val_loss: 0.0346 - val_acc: 0.7711\n",
      "Epoch 99/120\n",
      "60000/60000 [==============================] - 4s 71us/step - loss: 0.0323 - acc: 0.7873 - val_loss: 0.0343 - val_acc: 0.7745\n",
      "Epoch 100/120\n",
      "60000/60000 [==============================] - 4s 70us/step - loss: 0.0323 - acc: 0.7876 - val_loss: 0.0343 - val_acc: 0.7748\n",
      "Epoch 101/120\n",
      "60000/60000 [==============================] - 4s 72us/step - loss: 0.0323 - acc: 0.7881 - val_loss: 0.0344 - val_acc: 0.7750\n",
      "Epoch 102/120\n",
      "60000/60000 [==============================] - 4s 70us/step - loss: 0.0323 - acc: 0.7860 - val_loss: 0.0345 - val_acc: 0.7727\n",
      "Epoch 103/120\n",
      "60000/60000 [==============================] - 4s 71us/step - loss: 0.0323 - acc: 0.7870 - val_loss: 0.0350 - val_acc: 0.7678\n",
      "Epoch 104/120\n",
      "60000/60000 [==============================] - 5s 75us/step - loss: 0.0322 - acc: 0.7883 - val_loss: 0.0345 - val_acc: 0.7732\n",
      "Epoch 105/120\n",
      "60000/60000 [==============================] - 4s 73us/step - loss: 0.0322 - acc: 0.7884 - val_loss: 0.0344 - val_acc: 0.7738\n",
      "Epoch 106/120\n",
      "60000/60000 [==============================] - 4s 74us/step - loss: 0.0322 - acc: 0.7877 - val_loss: 0.0347 - val_acc: 0.7702\n",
      "Epoch 107/120\n",
      "60000/60000 [==============================] - 4s 70us/step - loss: 0.0322 - acc: 0.7874 - val_loss: 0.0342 - val_acc: 0.7773\n",
      "Epoch 108/120\n",
      "60000/60000 [==============================] - 4s 70us/step - loss: 0.0321 - acc: 0.7882 - val_loss: 0.0343 - val_acc: 0.7739\n",
      "Epoch 109/120\n",
      "60000/60000 [==============================] - 4s 71us/step - loss: 0.0321 - acc: 0.7887 - val_loss: 0.0343 - val_acc: 0.7744\n",
      "Epoch 110/120\n",
      "60000/60000 [==============================] - 4s 71us/step - loss: 0.0321 - acc: 0.7888 - val_loss: 0.0342 - val_acc: 0.7763\n",
      "Epoch 111/120\n",
      "60000/60000 [==============================] - 4s 72us/step - loss: 0.0321 - acc: 0.7884 - val_loss: 0.0341 - val_acc: 0.7766\n",
      "Epoch 112/120\n",
      "60000/60000 [==============================] - 4s 73us/step - loss: 0.0320 - acc: 0.7898 - val_loss: 0.0342 - val_acc: 0.7718\n",
      "Epoch 113/120\n",
      "60000/60000 [==============================] - 4s 72us/step - loss: 0.0320 - acc: 0.7885 - val_loss: 0.0341 - val_acc: 0.7760\n",
      "Epoch 114/120\n",
      "60000/60000 [==============================] - 4s 69us/step - loss: 0.0320 - acc: 0.7895 - val_loss: 0.0344 - val_acc: 0.7724\n",
      "Epoch 115/120\n",
      "60000/60000 [==============================] - 4s 72us/step - loss: 0.0320 - acc: 0.7894 - val_loss: 0.0345 - val_acc: 0.7744\n",
      "Epoch 116/120\n",
      "60000/60000 [==============================] - 4s 70us/step - loss: 0.0320 - acc: 0.7906 - val_loss: 0.0345 - val_acc: 0.7729\n",
      "Epoch 117/120\n",
      "60000/60000 [==============================] - 4s 70us/step - loss: 0.0319 - acc: 0.7903 - val_loss: 0.0343 - val_acc: 0.7748\n"
     ]
    },
    {
     "name": "stdout",
     "output_type": "stream",
     "text": [
      "Epoch 118/120\n",
      "60000/60000 [==============================] - 4s 66us/step - loss: 0.0320 - acc: 0.7894 - val_loss: 0.0344 - val_acc: 0.7719\n",
      "Epoch 119/120\n",
      "60000/60000 [==============================] - 4s 67us/step - loss: 0.0319 - acc: 0.7901 - val_loss: 0.0342 - val_acc: 0.7759\n",
      "Epoch 120/120\n",
      "60000/60000 [==============================] - 4s 68us/step - loss: 0.0319 - acc: 0.7897 - val_loss: 0.0341 - val_acc: 0.7758\n"
     ]
    }
   ],
   "source": [
    "history_nomal = model_nomal.fit(x_train_nomal, y_train, batch_size=64, epochs=120,\n",
    "                        verbose = 1,\n",
    "                        validation_data = (x_test_nomal, y_test))"
   ]
  },
  {
   "cell_type": "code",
   "execution_count": 222,
   "metadata": {},
   "outputs": [
    {
     "data": {
      "image/png": "[encoded data removed]",
      "text/plain": [
       "<Figure size 432x288 with 1 Axes>"
      ]
     },
     "metadata": {
      "needs_background": "light"
     },
     "output_type": "display_data"
    }
   ],
   "source": [
    "plt.plot(history_nomal.history[\"acc\"])\n",
    "plt.title(\"model_nomal training accuracy\")\n",
    "plt.ylabel(\"accuracy\")\n",
    "plt.xlabel(\"epoch\")\n",
    "plt.show()"
   ]
  },
  {
   "cell_type": "code",
   "execution_count": 237,
   "metadata": {},
   "outputs": [
    {
     "name": "stdout",
     "output_type": "stream",
     "text": [
      "10000/10000 [==============================] - 1s 65us/step\n",
      "loss: 0.017119550886005162\n",
      "正確率:  0.8937\n"
     ]
    }
   ],
   "source": [
    "score = model_nomal.evaluate(x_test, y_test)\n",
    "print('loss:', score[0])\n",
    "print('正確率: ', score[1])"
   ]
  },
  {
   "cell_type": "markdown",
   "metadata": {},
   "source": [
    "# Optimizer : Adam\n",
    "# Activation Function : SGD\n",
    "# Nomalization : YES\n",
    "# Dense : 20, 20, 10"
   ]
  },
  {
   "cell_type": "code",
   "execution_count": 228,
   "metadata": {},
   "outputs": [],
   "source": [
    "model_nomal_dense = Sequential()\n",
    "model_nomal_dense.add(Dense(20, input_dim=784))\n",
    "model_nomal_dense.add(Activation('sigmoid'))\n",
    "model_nomal_dense.add(Dense(20))\n",
    "model_nomal_dense.add(Activation('sigmoid'))\n",
    "model_nomal_dense.add(Dense(10))\n",
    "model_nomal_dense.add(Activation('softmax'))"
   ]
  },
  {
   "cell_type": "code",
   "execution_count": 241,
   "metadata": {},
   "outputs": [],
   "source": [
    "model_nomal_dense.compile(loss='mse', optimizer=Adam(lr=0.001,beta_1=0.9, beta_2=0.999, epsilon=None, decay=0.0, amsgrad=False), metrics=['accuracy'])"
   ]
  },
  {
   "cell_type": "code",
   "execution_count": 230,
   "metadata": {},
   "outputs": [
    {
     "name": "stdout",
     "output_type": "stream",
     "text": [
      "Train on 60000 samples, validate on 10000 samples\n",
      "Epoch 1/120\n",
      "60000/60000 [==============================] - 7s 124us/step - loss: 0.0522 - acc: 0.6427 - val_loss: 0.0231 - val_acc: 0.8793\n",
      "Epoch 2/120\n",
      "60000/60000 [==============================] - 5s 84us/step - loss: 0.0178 - acc: 0.8984 - val_loss: 0.0143 - val_acc: 0.9095\n",
      "Epoch 3/120\n",
      "60000/60000 [==============================] - 5s 90us/step - loss: 0.0132 - acc: 0.9184 - val_loss: 0.0121 - val_acc: 0.9230\n",
      "Epoch 4/120\n",
      "60000/60000 [==============================] - 5s 85us/step - loss: 0.0113 - acc: 0.9291 - val_loss: 0.0108 - val_acc: 0.9294\n",
      "Epoch 5/120\n",
      "60000/60000 [==============================] - 5s 87us/step - loss: 0.0101 - acc: 0.9358 - val_loss: 0.0100 - val_acc: 0.9344\n",
      "Epoch 6/120\n",
      "60000/60000 [==============================] - 5s 85us/step - loss: 0.0093 - acc: 0.9414 - val_loss: 0.0095 - val_acc: 0.9385\n",
      "Epoch 7/120\n",
      "60000/60000 [==============================] - 5s 86us/step - loss: 0.0087 - acc: 0.9460 - val_loss: 0.0091 - val_acc: 0.9420\n",
      "Epoch 8/120\n",
      "60000/60000 [==============================] - 5s 87us/step - loss: 0.0081 - acc: 0.9495 - val_loss: 0.0087 - val_acc: 0.9450\n",
      "Epoch 9/120\n",
      "60000/60000 [==============================] - 5s 87us/step - loss: 0.0077 - acc: 0.9518 - val_loss: 0.0086 - val_acc: 0.9448\n",
      "Epoch 10/120\n",
      "60000/60000 [==============================] - 5s 86us/step - loss: 0.0073 - acc: 0.9543 - val_loss: 0.0084 - val_acc: 0.9451\n",
      "Epoch 11/120\n",
      "60000/60000 [==============================] - 5s 88us/step - loss: 0.0070 - acc: 0.9565 - val_loss: 0.0082 - val_acc: 0.9463\n",
      "Epoch 12/120\n",
      "60000/60000 [==============================] - 5s 88us/step - loss: 0.0067 - acc: 0.9585 - val_loss: 0.0081 - val_acc: 0.9480\n",
      "Epoch 13/120\n",
      "60000/60000 [==============================] - 5s 88us/step - loss: 0.0065 - acc: 0.9602 - val_loss: 0.0079 - val_acc: 0.9478\n",
      "Epoch 14/120\n",
      "60000/60000 [==============================] - 5s 87us/step - loss: 0.0063 - acc: 0.9618 - val_loss: 0.0078 - val_acc: 0.9485\n",
      "Epoch 15/120\n",
      "60000/60000 [==============================] - 6s 92us/step - loss: 0.0061 - acc: 0.9633 - val_loss: 0.0078 - val_acc: 0.9493\n",
      "Epoch 16/120\n",
      "60000/60000 [==============================] - 5s 88us/step - loss: 0.0059 - acc: 0.9643 - val_loss: 0.0077 - val_acc: 0.9491\n",
      "Epoch 17/120\n",
      "60000/60000 [==============================] - 5s 90us/step - loss: 0.0057 - acc: 0.9656 - val_loss: 0.0077 - val_acc: 0.9504\n",
      "Epoch 18/120\n",
      "60000/60000 [==============================] - 5s 88us/step - loss: 0.0056 - acc: 0.9668 - val_loss: 0.0076 - val_acc: 0.9503\n",
      "Epoch 19/120\n",
      "60000/60000 [==============================] - 5s 89us/step - loss: 0.0054 - acc: 0.9676 - val_loss: 0.0076 - val_acc: 0.9500\n",
      "Epoch 20/120\n",
      "60000/60000 [==============================] - 5s 89us/step - loss: 0.0053 - acc: 0.9684 - val_loss: 0.0076 - val_acc: 0.9501\n",
      "Epoch 21/120\n",
      "60000/60000 [==============================] - 6s 94us/step - loss: 0.0052 - acc: 0.9691 - val_loss: 0.0075 - val_acc: 0.9501\n",
      "Epoch 22/120\n",
      "60000/60000 [==============================] - 5s 91us/step - loss: 0.0050 - acc: 0.9705 - val_loss: 0.0075 - val_acc: 0.9512\n",
      "Epoch 23/120\n",
      "60000/60000 [==============================] - 6s 93us/step - loss: 0.0049 - acc: 0.9713 - val_loss: 0.0075 - val_acc: 0.9499\n",
      "Epoch 24/120\n",
      "60000/60000 [==============================] - 8s 139us/step - loss: 0.0048 - acc: 0.9716 - val_loss: 0.0074 - val_acc: 0.9514\n",
      "Epoch 25/120\n",
      "60000/60000 [==============================] - 7s 123us/step - loss: 0.0047 - acc: 0.9724 - val_loss: 0.0074 - val_acc: 0.9517\n",
      "Epoch 26/120\n",
      "60000/60000 [==============================] - 7s 111us/step - loss: 0.0046 - acc: 0.9731 - val_loss: 0.0075 - val_acc: 0.9504\n",
      "Epoch 27/120\n",
      "60000/60000 [==============================] - 6s 97us/step - loss: 0.0045 - acc: 0.9736 - val_loss: 0.0074 - val_acc: 0.9505\n",
      "Epoch 28/120\n",
      "60000/60000 [==============================] - 7s 108us/step - loss: 0.0044 - acc: 0.9745 - val_loss: 0.0075 - val_acc: 0.9513\n",
      "Epoch 29/120\n",
      "60000/60000 [==============================] - 6s 95us/step - loss: 0.0043 - acc: 0.9747 - val_loss: 0.0073 - val_acc: 0.9527\n",
      "Epoch 30/120\n",
      "60000/60000 [==============================] - 6s 99us/step - loss: 0.0042 - acc: 0.9763 - val_loss: 0.0074 - val_acc: 0.9521\n",
      "Epoch 31/120\n",
      "60000/60000 [==============================] - 6s 95us/step - loss: 0.0042 - acc: 0.9761 - val_loss: 0.0073 - val_acc: 0.9529\n",
      "Epoch 32/120\n",
      "60000/60000 [==============================] - 6s 97us/step - loss: 0.0041 - acc: 0.9768 - val_loss: 0.0073 - val_acc: 0.9534\n",
      "Epoch 33/120\n",
      "60000/60000 [==============================] - 6s 100us/step - loss: 0.0040 - acc: 0.9772 - val_loss: 0.0074 - val_acc: 0.9521\n",
      "Epoch 34/120\n",
      "60000/60000 [==============================] - 6s 95us/step - loss: 0.0039 - acc: 0.9781 - val_loss: 0.0073 - val_acc: 0.9522\n",
      "Epoch 35/120\n",
      "60000/60000 [==============================] - 6s 93us/step - loss: 0.0039 - acc: 0.9784 - val_loss: 0.0073 - val_acc: 0.9541\n",
      "Epoch 36/120\n",
      "60000/60000 [==============================] - 6s 105us/step - loss: 0.0038 - acc: 0.9789 - val_loss: 0.0072 - val_acc: 0.9541\n",
      "Epoch 37/120\n",
      "60000/60000 [==============================] - 6s 99us/step - loss: 0.0037 - acc: 0.9787 - val_loss: 0.0073 - val_acc: 0.9530\n",
      "Epoch 38/120\n",
      "60000/60000 [==============================] - 6s 98us/step - loss: 0.0037 - acc: 0.9797 - val_loss: 0.0072 - val_acc: 0.9534\n",
      "Epoch 39/120\n",
      "60000/60000 [==============================] - 6s 97us/step - loss: 0.0036 - acc: 0.9800 - val_loss: 0.0073 - val_acc: 0.9534\n",
      "Epoch 40/120\n",
      "60000/60000 [==============================] - 5s 91us/step - loss: 0.0035 - acc: 0.9802 - val_loss: 0.0073 - val_acc: 0.9526\n",
      "Epoch 41/120\n",
      "60000/60000 [==============================] - 6s 94us/step - loss: 0.0035 - acc: 0.9804 - val_loss: 0.0073 - val_acc: 0.9536\n",
      "Epoch 42/120\n",
      "60000/60000 [==============================] - 5s 89us/step - loss: 0.0034 - acc: 0.9814 - val_loss: 0.0072 - val_acc: 0.9535\n",
      "Epoch 43/120\n",
      "60000/60000 [==============================] - 6s 93us/step - loss: 0.0034 - acc: 0.9818 - val_loss: 0.0073 - val_acc: 0.9528\n",
      "Epoch 44/120\n",
      "60000/60000 [==============================] - 6s 106us/step - loss: 0.0033 - acc: 0.9816 - val_loss: 0.0073 - val_acc: 0.9525\n",
      "Epoch 45/120\n",
      "60000/60000 [==============================] - 7s 109us/step - loss: 0.0033 - acc: 0.9821 - val_loss: 0.0073 - val_acc: 0.9534\n",
      "Epoch 46/120\n",
      "60000/60000 [==============================] - 6s 102us/step - loss: 0.0032 - acc: 0.9826 - val_loss: 0.0074 - val_acc: 0.9517\n",
      "Epoch 47/120\n",
      "60000/60000 [==============================] - 6s 93us/step - loss: 0.0032 - acc: 0.9824 - val_loss: 0.0073 - val_acc: 0.9535\n",
      "Epoch 48/120\n",
      "60000/60000 [==============================] - 6s 97us/step - loss: 0.0031 - acc: 0.9833 - val_loss: 0.0074 - val_acc: 0.9520\n",
      "Epoch 49/120\n",
      "60000/60000 [==============================] - 6s 102us/step - loss: 0.0031 - acc: 0.9832 - val_loss: 0.0074 - val_acc: 0.9520\n",
      "Epoch 50/120\n",
      "60000/60000 [==============================] - 6s 98us/step - loss: 0.0030 - acc: 0.9837 - val_loss: 0.0075 - val_acc: 0.9517\n",
      "Epoch 51/120\n",
      "60000/60000 [==============================] - 6s 93us/step - loss: 0.0030 - acc: 0.9840 - val_loss: 0.0075 - val_acc: 0.9509\n",
      "Epoch 52/120\n",
      "60000/60000 [==============================] - 6s 98us/step - loss: 0.0030 - acc: 0.9839 - val_loss: 0.0076 - val_acc: 0.9506\n",
      "Epoch 53/120\n",
      "60000/60000 [==============================] - 6s 96us/step - loss: 0.0029 - acc: 0.9843 - val_loss: 0.0076 - val_acc: 0.9512\n",
      "Epoch 54/120\n",
      "60000/60000 [==============================] - 6s 96us/step - loss: 0.0028 - acc: 0.9848 - val_loss: 0.0074 - val_acc: 0.9522\n",
      "Epoch 55/120\n",
      "60000/60000 [==============================] - 6s 93us/step - loss: 0.0028 - acc: 0.9852 - val_loss: 0.0074 - val_acc: 0.9531\n",
      "Epoch 56/120\n",
      "60000/60000 [==============================] - 6s 96us/step - loss: 0.0028 - acc: 0.9851 - val_loss: 0.0076 - val_acc: 0.9520\n",
      "Epoch 57/120\n",
      "60000/60000 [==============================] - 5s 88us/step - loss: 0.0028 - acc: 0.9853 - val_loss: 0.0074 - val_acc: 0.9529\n",
      "Epoch 58/120\n",
      "60000/60000 [==============================] - 5s 88us/step - loss: 0.0027 - acc: 0.9855 - val_loss: 0.0075 - val_acc: 0.9510\n",
      "Epoch 59/120\n"
     ]
    },
    {
     "name": "stdout",
     "output_type": "stream",
     "text": [
      "60000/60000 [==============================] - 5s 86us/step - loss: 0.0027 - acc: 0.9857 - val_loss: 0.0076 - val_acc: 0.9514\n",
      "Epoch 60/120\n",
      "60000/60000 [==============================] - 5s 82us/step - loss: 0.0026 - acc: 0.9861 - val_loss: 0.0075 - val_acc: 0.9522\n",
      "Epoch 61/120\n",
      "60000/60000 [==============================] - 5s 85us/step - loss: 0.0026 - acc: 0.9861 - val_loss: 0.0074 - val_acc: 0.9535\n",
      "Epoch 62/120\n",
      "60000/60000 [==============================] - 5s 90us/step - loss: 0.0026 - acc: 0.9864 - val_loss: 0.0075 - val_acc: 0.9521\n",
      "Epoch 63/120\n",
      "60000/60000 [==============================] - 6s 93us/step - loss: 0.0025 - acc: 0.9867 - val_loss: 0.0075 - val_acc: 0.9526\n",
      "Epoch 64/120\n",
      "60000/60000 [==============================] - 5s 84us/step - loss: 0.0025 - acc: 0.9867 - val_loss: 0.0075 - val_acc: 0.9528\n",
      "Epoch 65/120\n",
      "60000/60000 [==============================] - 5s 89us/step - loss: 0.0025 - acc: 0.9868 - val_loss: 0.0076 - val_acc: 0.9524\n",
      "Epoch 66/120\n",
      "60000/60000 [==============================] - 5s 90us/step - loss: 0.0025 - acc: 0.9869 - val_loss: 0.0076 - val_acc: 0.9525\n",
      "Epoch 67/120\n",
      "60000/60000 [==============================] - 6s 93us/step - loss: 0.0024 - acc: 0.9874 - val_loss: 0.0076 - val_acc: 0.9523\n",
      "Epoch 68/120\n",
      "60000/60000 [==============================] - 5s 87us/step - loss: 0.0024 - acc: 0.9875 - val_loss: 0.0075 - val_acc: 0.9524\n",
      "Epoch 69/120\n",
      "60000/60000 [==============================] - 5s 85us/step - loss: 0.0024 - acc: 0.9876 - val_loss: 0.0075 - val_acc: 0.9532\n",
      "Epoch 70/120\n",
      "60000/60000 [==============================] - 5s 84us/step - loss: 0.0024 - acc: 0.9875 - val_loss: 0.0077 - val_acc: 0.9520\n",
      "Epoch 71/120\n",
      "60000/60000 [==============================] - 5s 85us/step - loss: 0.0023 - acc: 0.9879 - val_loss: 0.0077 - val_acc: 0.9516\n",
      "Epoch 72/120\n",
      "60000/60000 [==============================] - 5s 87us/step - loss: 0.0023 - acc: 0.9877 - val_loss: 0.0076 - val_acc: 0.9530\n",
      "Epoch 73/120\n",
      "60000/60000 [==============================] - 5s 86us/step - loss: 0.0023 - acc: 0.9880 - val_loss: 0.0077 - val_acc: 0.9519\n",
      "Epoch 74/120\n",
      "60000/60000 [==============================] - 5s 85us/step - loss: 0.0023 - acc: 0.9880 - val_loss: 0.0077 - val_acc: 0.9513\n",
      "Epoch 75/120\n",
      "60000/60000 [==============================] - 5s 86us/step - loss: 0.0023 - acc: 0.9882 - val_loss: 0.0077 - val_acc: 0.9526\n",
      "Epoch 76/120\n",
      "60000/60000 [==============================] - 5s 86us/step - loss: 0.0022 - acc: 0.9885 - val_loss: 0.0077 - val_acc: 0.9521\n",
      "Epoch 77/120\n",
      "60000/60000 [==============================] - 5s 88us/step - loss: 0.0022 - acc: 0.9885 - val_loss: 0.0076 - val_acc: 0.9523\n",
      "Epoch 78/120\n",
      "60000/60000 [==============================] - 5s 86us/step - loss: 0.0022 - acc: 0.9887 - val_loss: 0.0076 - val_acc: 0.9530\n",
      "Epoch 79/120\n",
      "60000/60000 [==============================] - 6s 93us/step - loss: 0.0022 - acc: 0.9886 - val_loss: 0.0076 - val_acc: 0.9532\n",
      "Epoch 80/120\n",
      "60000/60000 [==============================] - 6s 103us/step - loss: 0.0021 - acc: 0.9889 - val_loss: 0.0076 - val_acc: 0.9537\n",
      "Epoch 81/120\n",
      "60000/60000 [==============================] - 6s 96us/step - loss: 0.0021 - acc: 0.9891 - val_loss: 0.0079 - val_acc: 0.9507\n",
      "Epoch 82/120\n",
      "60000/60000 [==============================] - 6s 92us/step - loss: 0.0021 - acc: 0.9889 - val_loss: 0.0076 - val_acc: 0.9533\n",
      "Epoch 83/120\n",
      "60000/60000 [==============================] - 5s 92us/step - loss: 0.0021 - acc: 0.9892 - val_loss: 0.0078 - val_acc: 0.9518\n",
      "Epoch 84/120\n",
      "60000/60000 [==============================] - 5s 91us/step - loss: 0.0021 - acc: 0.9892 - val_loss: 0.0077 - val_acc: 0.9518\n",
      "Epoch 85/120\n",
      "60000/60000 [==============================] - 6s 92us/step - loss: 0.0021 - acc: 0.9891 - val_loss: 0.0077 - val_acc: 0.9517\n",
      "Epoch 86/120\n",
      "60000/60000 [==============================] - 5s 91us/step - loss: 0.0021 - acc: 0.9892 - val_loss: 0.0077 - val_acc: 0.9518\n",
      "Epoch 87/120\n",
      "60000/60000 [==============================] - 6s 95us/step - loss: 0.0020 - acc: 0.9895 - val_loss: 0.0076 - val_acc: 0.9540\n",
      "Epoch 88/120\n",
      "60000/60000 [==============================] - 6s 93us/step - loss: 0.0020 - acc: 0.9896 - val_loss: 0.0077 - val_acc: 0.9520\n",
      "Epoch 89/120\n",
      "60000/60000 [==============================] - 5s 91us/step - loss: 0.0020 - acc: 0.9892 - val_loss: 0.0076 - val_acc: 0.9528\n",
      "Epoch 90/120\n",
      "60000/60000 [==============================] - 5s 91us/step - loss: 0.0020 - acc: 0.9896 - val_loss: 0.0076 - val_acc: 0.9541\n",
      "Epoch 91/120\n",
      "60000/60000 [==============================] - 5s 91us/step - loss: 0.0020 - acc: 0.9897 - val_loss: 0.0076 - val_acc: 0.9532\n",
      "Epoch 92/120\n",
      "60000/60000 [==============================] - 5s 90us/step - loss: 0.0020 - acc: 0.9895 - val_loss: 0.0078 - val_acc: 0.9520\n",
      "Epoch 93/120\n",
      "60000/60000 [==============================] - 5s 91us/step - loss: 0.0020 - acc: 0.9897 - val_loss: 0.0076 - val_acc: 0.9537\n",
      "Epoch 94/120\n",
      "60000/60000 [==============================] - 5s 90us/step - loss: 0.0019 - acc: 0.9898 - val_loss: 0.0076 - val_acc: 0.9533\n",
      "Epoch 95/120\n",
      "60000/60000 [==============================] - 5s 91us/step - loss: 0.0019 - acc: 0.9899 - val_loss: 0.0077 - val_acc: 0.9519\n",
      "Epoch 96/120\n",
      "60000/60000 [==============================] - 5s 90us/step - loss: 0.0019 - acc: 0.9900 - val_loss: 0.0076 - val_acc: 0.9536\n",
      "Epoch 97/120\n",
      "60000/60000 [==============================] - 5s 90us/step - loss: 0.0019 - acc: 0.9900 - val_loss: 0.0079 - val_acc: 0.9512\n",
      "Epoch 98/120\n",
      "60000/60000 [==============================] - 6s 93us/step - loss: 0.0019 - acc: 0.9897 - val_loss: 0.0078 - val_acc: 0.9526\n",
      "Epoch 99/120\n",
      "60000/60000 [==============================] - 5s 91us/step - loss: 0.0019 - acc: 0.9903 - val_loss: 0.0080 - val_acc: 0.9514\n",
      "Epoch 100/120\n",
      "60000/60000 [==============================] - 5s 90us/step - loss: 0.0018 - acc: 0.9903 - val_loss: 0.0077 - val_acc: 0.9535\n",
      "Epoch 101/120\n",
      "60000/60000 [==============================] - 5s 91us/step - loss: 0.0019 - acc: 0.9901 - val_loss: 0.0078 - val_acc: 0.9524\n",
      "Epoch 102/120\n",
      "60000/60000 [==============================] - 7s 121us/step - loss: 0.0018 - acc: 0.9903 - val_loss: 0.0077 - val_acc: 0.9529\n",
      "Epoch 103/120\n",
      "60000/60000 [==============================] - 6s 98us/step - loss: 0.0018 - acc: 0.9903 - val_loss: 0.0078 - val_acc: 0.9518\n",
      "Epoch 104/120\n",
      "60000/60000 [==============================] - 6s 98us/step - loss: 0.0018 - acc: 0.9905 - val_loss: 0.0079 - val_acc: 0.9511\n",
      "Epoch 105/120\n",
      "60000/60000 [==============================] - 6s 100us/step - loss: 0.0018 - acc: 0.9904 - val_loss: 0.0079 - val_acc: 0.9522\n",
      "Epoch 106/120\n",
      "60000/60000 [==============================] - 6s 95us/step - loss: 0.0018 - acc: 0.9902 - val_loss: 0.0079 - val_acc: 0.9514\n",
      "Epoch 107/120\n",
      "60000/60000 [==============================] - 6s 98us/step - loss: 0.0018 - acc: 0.9905 - val_loss: 0.0079 - val_acc: 0.9524\n",
      "Epoch 108/120\n",
      "60000/60000 [==============================] - 6s 105us/step - loss: 0.0018 - acc: 0.9906 - val_loss: 0.0079 - val_acc: 0.9519\n",
      "Epoch 109/120\n",
      "60000/60000 [==============================] - 6s 94us/step - loss: 0.0018 - acc: 0.9902 - val_loss: 0.0078 - val_acc: 0.9528\n",
      "Epoch 110/120\n",
      "60000/60000 [==============================] - 6s 98us/step - loss: 0.0018 - acc: 0.9905 - val_loss: 0.0078 - val_acc: 0.9516\n",
      "Epoch 111/120\n",
      "60000/60000 [==============================] - 5s 88us/step - loss: 0.0018 - acc: 0.9908 - val_loss: 0.0079 - val_acc: 0.9523\n",
      "Epoch 112/120\n",
      "60000/60000 [==============================] - 5s 89us/step - loss: 0.0018 - acc: 0.9906 - val_loss: 0.0079 - val_acc: 0.9518\n",
      "Epoch 113/120\n",
      "60000/60000 [==============================] - 5s 87us/step - loss: 0.0017 - acc: 0.9908 - val_loss: 0.0079 - val_acc: 0.9522\n",
      "Epoch 114/120\n",
      "60000/60000 [==============================] - 5s 89us/step - loss: 0.0017 - acc: 0.9907 - val_loss: 0.0078 - val_acc: 0.9531\n",
      "Epoch 115/120\n",
      "60000/60000 [==============================] - 6s 92us/step - loss: 0.0017 - acc: 0.9907 - val_loss: 0.0079 - val_acc: 0.9525\n",
      "Epoch 116/120\n",
      "60000/60000 [==============================] - 5s 91us/step - loss: 0.0017 - acc: 0.9909 - val_loss: 0.0078 - val_acc: 0.9534\n",
      "Epoch 117/120\n",
      "60000/60000 [==============================] - 5s 88us/step - loss: 0.0017 - acc: 0.9909 - val_loss: 0.0079 - val_acc: 0.9521\n"
     ]
    },
    {
     "name": "stdout",
     "output_type": "stream",
     "text": [
      "Epoch 118/120\n",
      "60000/60000 [==============================] - 5s 83us/step - loss: 0.0017 - acc: 0.9905 - val_loss: 0.0082 - val_acc: 0.9501\n",
      "Epoch 119/120\n",
      "60000/60000 [==============================] - 5s 83us/step - loss: 0.0017 - acc: 0.9908 - val_loss: 0.0079 - val_acc: 0.9523\n",
      "Epoch 120/120\n",
      "60000/60000 [==============================] - 5s 85us/step - loss: 0.0017 - acc: 0.9911 - val_loss: 0.0080 - val_acc: 0.9513\n"
     ]
    }
   ],
   "source": [
    "history_nomal_dense = model_nomal_dense.fit(x_train_nomal, y_train, batch_size=64, epochs=120,\n",
    "                        verbose = 1,\n",
    "                        validation_data = (x_test_nomal, y_test))"
   ]
  },
  {
   "cell_type": "code",
   "execution_count": 236,
   "metadata": {},
   "outputs": [
    {
     "data": {
      "image/png": "[encoded data removed]",
      "text/plain": [
       "<Figure size 432x288 with 1 Axes>"
      ]
     },
     "metadata": {
      "needs_background": "light"
     },
     "output_type": "display_data"
    }
   ],
   "source": [
    "plt.plot(history_nomal_dense.history[\"acc\"])\n",
    "plt.title(\"model_nomal_densel training accuracy\")\n",
    "plt.ylabel(\"accuracy\")\n",
    "plt.xlabel(\"epoch\")\n",
    "plt.show()"
   ]
  },
  {
   "cell_type": "code",
   "execution_count": 240,
   "metadata": {},
   "outputs": [
    {
     "name": "stdout",
     "output_type": "stream",
     "text": [
      "10000/10000 [==============================] - 1s 61us/step\n",
      "loss: 0.01629559088667577\n",
      "正確率:  0.9029\n"
     ]
    }
   ],
   "source": [
    "score = model_nomal_dense.evaluate(x_test, y_test)\n",
    "print('loss:', score[0])\n",
    "print('正確率: ', score[1])"
   ]
  },
  {
   "cell_type": "markdown",
   "metadata": {},
   "source": [
    "# Optimizer : Adam\n",
    "# Activation Function : relu\n",
    "# Nomalization : YES\n",
    "# Dense : 20, 20, 10"
   ]
  },
  {
   "cell_type": "code",
   "execution_count": 242,
   "metadata": {},
   "outputs": [],
   "source": [
    "model_nomal_dense_relu = Sequential()\n",
    "model_nomal_dense_relu.add(Dense(20, input_dim=784))\n",
    "model_nomal_dense_relu.add(Activation('relu'))\n",
    "model_nomal_dense_relu.add(Dense(20))\n",
    "model_nomal_dense_relu.add(Activation('relu'))\n",
    "model_nomal_dense_relu.add(Dense(10))\n",
    "model_nomal_dense_relu.add(Activation('softmax'))"
   ]
  },
  {
   "cell_type": "code",
   "execution_count": 243,
   "metadata": {},
   "outputs": [],
   "source": [
    "model_nomal_dense_relu.compile(loss='mse', optimizer=Adam(lr=0.001,beta_1=0.9, beta_2=0.999, epsilon=None, decay=0.0, amsgrad=False), metrics=['accuracy'])"
   ]
  },
  {
   "cell_type": "code",
   "execution_count": 245,
   "metadata": {},
   "outputs": [
    {
     "name": "stdout",
     "output_type": "stream",
     "text": [
      "Train on 60000 samples, validate on 10000 samples\n",
      "Epoch 1/120\n",
      "60000/60000 [==============================] - 8s 128us/step - loss: 0.0219 - acc: 0.8549 - val_loss: 0.0113 - val_acc: 0.9268\n",
      "Epoch 2/120\n",
      "60000/60000 [==============================] - 5s 89us/step - loss: 0.0108 - acc: 0.9307 - val_loss: 0.0097 - val_acc: 0.9372\n",
      "Epoch 3/120\n",
      "60000/60000 [==============================] - 5s 90us/step - loss: 0.0091 - acc: 0.9419 - val_loss: 0.0086 - val_acc: 0.9439\n",
      "Epoch 4/120\n",
      "60000/60000 [==============================] - 6s 98us/step - loss: 0.0082 - acc: 0.9481 - val_loss: 0.0082 - val_acc: 0.9460\n",
      "Epoch 5/120\n",
      "60000/60000 [==============================] - 6s 95us/step - loss: 0.0075 - acc: 0.9527 - val_loss: 0.0086 - val_acc: 0.9440\n",
      "Epoch 6/120\n",
      "60000/60000 [==============================] - 7s 117us/step - loss: 0.0069 - acc: 0.9557 - val_loss: 0.0072 - val_acc: 0.9524\n",
      "Epoch 7/120\n",
      "60000/60000 [==============================] - 8s 134us/step - loss: 0.0065 - acc: 0.9593 - val_loss: 0.0074 - val_acc: 0.9524\n",
      "Epoch 8/120\n",
      "60000/60000 [==============================] - 6s 106us/step - loss: 0.0062 - acc: 0.9616 - val_loss: 0.0069 - val_acc: 0.9536\n",
      "Epoch 9/120\n",
      "60000/60000 [==============================] - 6s 105us/step - loss: 0.0059 - acc: 0.9633 - val_loss: 0.0067 - val_acc: 0.9569\n",
      "Epoch 10/120\n",
      "60000/60000 [==============================] - 6s 96us/step - loss: 0.0056 - acc: 0.9650 - val_loss: 0.0067 - val_acc: 0.9574\n",
      "Epoch 11/120\n",
      "60000/60000 [==============================] - 7s 113us/step - loss: 0.0053 - acc: 0.9670 - val_loss: 0.0067 - val_acc: 0.9578\n",
      "Epoch 12/120\n",
      "60000/60000 [==============================] - 6s 97us/step - loss: 0.0051 - acc: 0.9684 - val_loss: 0.0068 - val_acc: 0.9562\n",
      "Epoch 13/120\n",
      "60000/60000 [==============================] - 6s 102us/step - loss: 0.0050 - acc: 0.9689 - val_loss: 0.0068 - val_acc: 0.9560\n",
      "Epoch 14/120\n",
      "60000/60000 [==============================] - 6s 98us/step - loss: 0.0048 - acc: 0.9703 - val_loss: 0.0064 - val_acc: 0.9589\n",
      "Epoch 15/120\n",
      "60000/60000 [==============================] - 6s 98us/step - loss: 0.0046 - acc: 0.9714 - val_loss: 0.0065 - val_acc: 0.9586\n",
      "Epoch 16/120\n",
      "60000/60000 [==============================] - 6s 95us/step - loss: 0.0044 - acc: 0.9724 - val_loss: 0.0072 - val_acc: 0.9532\n",
      "Epoch 17/120\n",
      "60000/60000 [==============================] - 6s 97us/step - loss: 0.0044 - acc: 0.9731 - val_loss: 0.0066 - val_acc: 0.9571\n",
      "Epoch 18/120\n",
      "60000/60000 [==============================] - 6s 100us/step - loss: 0.0043 - acc: 0.9743 - val_loss: 0.0063 - val_acc: 0.9596\n",
      "Epoch 19/120\n",
      "60000/60000 [==============================] - 6s 95us/step - loss: 0.0041 - acc: 0.9752 - val_loss: 0.0065 - val_acc: 0.9594\n",
      "Epoch 20/120\n",
      "60000/60000 [==============================] - 6s 100us/step - loss: 0.0040 - acc: 0.9758 - val_loss: 0.0068 - val_acc: 0.9574\n",
      "Epoch 21/120\n",
      "60000/60000 [==============================] - 7s 112us/step - loss: 0.0039 - acc: 0.9767 - val_loss: 0.0062 - val_acc: 0.9598\n",
      "Epoch 22/120\n",
      "60000/60000 [==============================] - 6s 97us/step - loss: 0.0038 - acc: 0.9768 - val_loss: 0.0063 - val_acc: 0.9604\n",
      "Epoch 23/120\n",
      "60000/60000 [==============================] - 6s 103us/step - loss: 0.0037 - acc: 0.9776 - val_loss: 0.0063 - val_acc: 0.9612\n",
      "Epoch 24/120\n",
      "60000/60000 [==============================] - 7s 112us/step - loss: 0.0037 - acc: 0.9781 - val_loss: 0.0063 - val_acc: 0.9608\n",
      "Epoch 25/120\n",
      "60000/60000 [==============================] - 6s 96us/step - loss: 0.0036 - acc: 0.9782 - val_loss: 0.0065 - val_acc: 0.9596\n",
      "Epoch 26/120\n",
      "60000/60000 [==============================] - 7s 109us/step - loss: 0.0035 - acc: 0.9789 - val_loss: 0.0063 - val_acc: 0.9595\n",
      "Epoch 27/120\n",
      "60000/60000 [==============================] - 6s 102us/step - loss: 0.0034 - acc: 0.9799 - val_loss: 0.0065 - val_acc: 0.9593\n",
      "Epoch 28/120\n",
      "60000/60000 [==============================] - 6s 94us/step - loss: 0.0034 - acc: 0.9796 - val_loss: 0.0064 - val_acc: 0.9599\n",
      "Epoch 29/120\n",
      "60000/60000 [==============================] - 6s 93us/step - loss: 0.0034 - acc: 0.9798 - val_loss: 0.0064 - val_acc: 0.9593\n",
      "Epoch 30/120\n",
      "60000/60000 [==============================] - 6s 99us/step - loss: 0.0033 - acc: 0.9807 - val_loss: 0.0064 - val_acc: 0.9608\n",
      "Epoch 31/120\n",
      "60000/60000 [==============================] - 6s 95us/step - loss: 0.0033 - acc: 0.9805 - val_loss: 0.0064 - val_acc: 0.9599\n",
      "Epoch 32/120\n",
      "60000/60000 [==============================] - 6s 92us/step - loss: 0.0032 - acc: 0.9812 - val_loss: 0.0061 - val_acc: 0.9613\n",
      "Epoch 33/120\n",
      "60000/60000 [==============================] - 6s 92us/step - loss: 0.0031 - acc: 0.9816 - val_loss: 0.0063 - val_acc: 0.9595\n",
      "Epoch 34/120\n",
      "60000/60000 [==============================] - 5s 91us/step - loss: 0.0031 - acc: 0.9821 - val_loss: 0.0063 - val_acc: 0.9609\n",
      "Epoch 35/120\n",
      "60000/60000 [==============================] - 5s 91us/step - loss: 0.0030 - acc: 0.9823 - val_loss: 0.0062 - val_acc: 0.9610\n",
      "Epoch 36/120\n",
      "60000/60000 [==============================] - 6s 92us/step - loss: 0.0030 - acc: 0.9825 - val_loss: 0.0064 - val_acc: 0.9610\n",
      "Epoch 37/120\n",
      "60000/60000 [==============================] - 5s 91us/step - loss: 0.0030 - acc: 0.9825 - val_loss: 0.0061 - val_acc: 0.9619\n",
      "Epoch 38/120\n",
      "60000/60000 [==============================] - 6s 92us/step - loss: 0.0029 - acc: 0.9829 - val_loss: 0.0064 - val_acc: 0.9596\n",
      "Epoch 39/120\n",
      "60000/60000 [==============================] - 5s 91us/step - loss: 0.0029 - acc: 0.9830 - val_loss: 0.0065 - val_acc: 0.9597\n",
      "Epoch 40/120\n",
      "60000/60000 [==============================] - 6s 94us/step - loss: 0.0029 - acc: 0.9829 - val_loss: 0.0066 - val_acc: 0.9596\n",
      "Epoch 41/120\n",
      "60000/60000 [==============================] - 5s 91us/step - loss: 0.0028 - acc: 0.9835 - val_loss: 0.0064 - val_acc: 0.9610\n",
      "Epoch 42/120\n",
      "60000/60000 [==============================] - 6s 96us/step - loss: 0.0028 - acc: 0.9841 - val_loss: 0.0064 - val_acc: 0.9603\n",
      "Epoch 43/120\n",
      "60000/60000 [==============================] - 7s 123us/step - loss: 0.0028 - acc: 0.9839 - val_loss: 0.0067 - val_acc: 0.9594\n",
      "Epoch 44/120\n",
      "60000/60000 [==============================] - 6s 108us/step - loss: 0.0028 - acc: 0.9834 - val_loss: 0.0063 - val_acc: 0.9620\n",
      "Epoch 45/120\n",
      "60000/60000 [==============================] - 5s 91us/step - loss: 0.0027 - acc: 0.9843 - val_loss: 0.0064 - val_acc: 0.9611\n",
      "Epoch 46/120\n",
      "60000/60000 [==============================] - 6s 93us/step - loss: 0.0027 - acc: 0.9843 - val_loss: 0.0063 - val_acc: 0.9622\n",
      "Epoch 47/120\n",
      "60000/60000 [==============================] - 5s 91us/step - loss: 0.0026 - acc: 0.9849 - val_loss: 0.0065 - val_acc: 0.9614\n",
      "Epoch 48/120\n",
      "60000/60000 [==============================] - 7s 117us/step - loss: 0.0026 - acc: 0.9849 - val_loss: 0.0063 - val_acc: 0.9617\n",
      "Epoch 49/120\n",
      "60000/60000 [==============================] - 7s 111us/step - loss: 0.0026 - acc: 0.9855 - val_loss: 0.0063 - val_acc: 0.9629\n",
      "Epoch 50/120\n",
      "60000/60000 [==============================] - 8s 126us/step - loss: 0.0026 - acc: 0.9849 - val_loss: 0.0064 - val_acc: 0.9621\n",
      "Epoch 51/120\n",
      "60000/60000 [==============================] - 8s 126us/step - loss: 0.0026 - acc: 0.9853 - val_loss: 0.0066 - val_acc: 0.9604\n",
      "Epoch 52/120\n",
      "60000/60000 [==============================] - 7s 109us/step - loss: 0.0025 - acc: 0.9856 - val_loss: 0.0068 - val_acc: 0.9591\n",
      "Epoch 53/120\n",
      "60000/60000 [==============================] - 6s 106us/step - loss: 0.0024 - acc: 0.9866 - val_loss: 0.0071 - val_acc: 0.9569\n",
      "Epoch 54/120\n",
      "60000/60000 [==============================] - 6s 97us/step - loss: 0.0025 - acc: 0.9859 - val_loss: 0.0065 - val_acc: 0.9605\n",
      "Epoch 55/120\n",
      "60000/60000 [==============================] - 6s 104us/step - loss: 0.0025 - acc: 0.9858 - val_loss: 0.0065 - val_acc: 0.9616\n",
      "Epoch 56/120\n",
      "60000/60000 [==============================] - 6s 108us/step - loss: 0.0025 - acc: 0.9859 - val_loss: 0.0066 - val_acc: 0.9601\n",
      "Epoch 57/120\n",
      "60000/60000 [==============================] - 7s 111us/step - loss: 0.0024 - acc: 0.9859 - val_loss: 0.0065 - val_acc: 0.9620\n",
      "Epoch 58/120\n",
      "60000/60000 [==============================] - 6s 99us/step - loss: 0.0024 - acc: 0.9862 - val_loss: 0.0066 - val_acc: 0.9611\n",
      "Epoch 59/120\n"
     ]
    },
    {
     "name": "stdout",
     "output_type": "stream",
     "text": [
      "60000/60000 [==============================] - 7s 115us/step - loss: 0.0023 - acc: 0.9867 - val_loss: 0.0066 - val_acc: 0.9616\n",
      "Epoch 60/120\n",
      "60000/60000 [==============================] - 6s 102us/step - loss: 0.0025 - acc: 0.9857 - val_loss: 0.0067 - val_acc: 0.9605\n",
      "Epoch 61/120\n",
      "60000/60000 [==============================] - 7s 109us/step - loss: 0.0023 - acc: 0.9871 - val_loss: 0.0065 - val_acc: 0.9612\n",
      "Epoch 62/120\n",
      "60000/60000 [==============================] - 6s 98us/step - loss: 0.0023 - acc: 0.9869 - val_loss: 0.0067 - val_acc: 0.9611\n",
      "Epoch 63/120\n",
      "60000/60000 [==============================] - 6s 95us/step - loss: 0.0023 - acc: 0.9868 - val_loss: 0.0068 - val_acc: 0.9598\n",
      "Epoch 64/120\n",
      "60000/60000 [==============================] - 6s 94us/step - loss: 0.0023 - acc: 0.9867 - val_loss: 0.0068 - val_acc: 0.9577\n",
      "Epoch 65/120\n",
      "60000/60000 [==============================] - 6s 96us/step - loss: 0.0023 - acc: 0.9873 - val_loss: 0.0065 - val_acc: 0.9628\n",
      "Epoch 66/120\n",
      "60000/60000 [==============================] - 6s 96us/step - loss: 0.0024 - acc: 0.9864 - val_loss: 0.0068 - val_acc: 0.9599\n",
      "Epoch 67/120\n",
      "60000/60000 [==============================] - 6s 96us/step - loss: 0.0023 - acc: 0.9871 - val_loss: 0.0069 - val_acc: 0.9594\n",
      "Epoch 68/120\n",
      "60000/60000 [==============================] - 7s 113us/step - loss: 0.0022 - acc: 0.9877 - val_loss: 0.0069 - val_acc: 0.9596\n",
      "Epoch 69/120\n",
      "60000/60000 [==============================] - 6s 98us/step - loss: 0.0021 - acc: 0.9883 - val_loss: 0.0067 - val_acc: 0.9614\n",
      "Epoch 70/120\n",
      "60000/60000 [==============================] - 6s 105us/step - loss: 0.0023 - acc: 0.9869 - val_loss: 0.0067 - val_acc: 0.9598\n",
      "Epoch 71/120\n",
      "60000/60000 [==============================] - 6s 99us/step - loss: 0.0022 - acc: 0.9875 - val_loss: 0.0067 - val_acc: 0.9610\n",
      "Epoch 72/120\n",
      "60000/60000 [==============================] - 6s 101us/step - loss: 0.0022 - acc: 0.9872 - val_loss: 0.0069 - val_acc: 0.9604\n",
      "Epoch 73/120\n",
      "60000/60000 [==============================] - 6s 100us/step - loss: 0.0023 - acc: 0.9872 - val_loss: 0.0067 - val_acc: 0.9601\n",
      "Epoch 74/120\n",
      "60000/60000 [==============================] - 6s 100us/step - loss: 0.0022 - acc: 0.9878 - val_loss: 0.0067 - val_acc: 0.9610\n",
      "Epoch 75/120\n",
      "60000/60000 [==============================] - 6s 100us/step - loss: 0.0021 - acc: 0.9883 - val_loss: 0.0067 - val_acc: 0.9601\n",
      "Epoch 76/120\n",
      "60000/60000 [==============================] - 6s 100us/step - loss: 0.0021 - acc: 0.9880 - val_loss: 0.0064 - val_acc: 0.9632\n",
      "Epoch 77/120\n",
      "60000/60000 [==============================] - 6s 101us/step - loss: 0.0022 - acc: 0.9874 - val_loss: 0.0071 - val_acc: 0.9592\n",
      "Epoch 78/120\n",
      "60000/60000 [==============================] - 6s 106us/step - loss: 0.0021 - acc: 0.9883 - val_loss: 0.0069 - val_acc: 0.9588\n",
      "Epoch 79/120\n",
      "60000/60000 [==============================] - 6s 107us/step - loss: 0.0022 - acc: 0.9871 - val_loss: 0.0069 - val_acc: 0.9604\n",
      "Epoch 80/120\n",
      "60000/60000 [==============================] - 6s 104us/step - loss: 0.0021 - acc: 0.9884 - val_loss: 0.0067 - val_acc: 0.9603\n",
      "Epoch 81/120\n",
      "60000/60000 [==============================] - 6s 106us/step - loss: 0.0020 - acc: 0.9889 - val_loss: 0.0068 - val_acc: 0.9597\n",
      "Epoch 82/120\n",
      "60000/60000 [==============================] - 6s 105us/step - loss: 0.0022 - acc: 0.9877 - val_loss: 0.0069 - val_acc: 0.9598\n",
      "Epoch 83/120\n",
      "60000/60000 [==============================] - 6s 103us/step - loss: 0.0021 - acc: 0.9885 - val_loss: 0.0067 - val_acc: 0.9607\n",
      "Epoch 84/120\n",
      "60000/60000 [==============================] - 7s 110us/step - loss: 0.0021 - acc: 0.9884 - val_loss: 0.0068 - val_acc: 0.9608\n",
      "Epoch 85/120\n",
      "60000/60000 [==============================] - 6s 102us/step - loss: 0.0020 - acc: 0.9887 - val_loss: 0.0066 - val_acc: 0.9619\n",
      "Epoch 86/120\n",
      "60000/60000 [==============================] - 6s 103us/step - loss: 0.0020 - acc: 0.9889 - val_loss: 0.0074 - val_acc: 0.9581\n",
      "Epoch 87/120\n",
      "60000/60000 [==============================] - 6s 104us/step - loss: 0.0021 - acc: 0.9884 - val_loss: 0.0070 - val_acc: 0.9590\n",
      "Epoch 88/120\n",
      "60000/60000 [==============================] - 6s 103us/step - loss: 0.0021 - acc: 0.9885 - val_loss: 0.0069 - val_acc: 0.9609\n",
      "Epoch 89/120\n",
      "60000/60000 [==============================] - 6s 104us/step - loss: 0.0020 - acc: 0.9888 - val_loss: 0.0068 - val_acc: 0.9604\n",
      "Epoch 90/120\n",
      "60000/60000 [==============================] - 6s 103us/step - loss: 0.0020 - acc: 0.9890 - val_loss: 0.0067 - val_acc: 0.9614\n",
      "Epoch 91/120\n",
      "60000/60000 [==============================] - 6s 103us/step - loss: 0.0020 - acc: 0.9889 - val_loss: 0.0069 - val_acc: 0.9605\n",
      "Epoch 92/120\n",
      "60000/60000 [==============================] - 6s 103us/step - loss: 0.0020 - acc: 0.9890 - val_loss: 0.0068 - val_acc: 0.9607\n",
      "Epoch 93/120\n",
      "60000/60000 [==============================] - 6s 102us/step - loss: 0.0021 - acc: 0.9884 - val_loss: 0.0070 - val_acc: 0.9592\n",
      "Epoch 94/120\n",
      "60000/60000 [==============================] - 7s 119us/step - loss: 0.0020 - acc: 0.9889 - val_loss: 0.0073 - val_acc: 0.9577\n",
      "Epoch 95/120\n",
      "60000/60000 [==============================] - 9s 148us/step - loss: 0.0020 - acc: 0.9888 - val_loss: 0.0073 - val_acc: 0.9588\n",
      "Epoch 96/120\n",
      "60000/60000 [==============================] - 7s 121us/step - loss: 0.0020 - acc: 0.9886 - val_loss: 0.0069 - val_acc: 0.9605\n",
      "Epoch 97/120\n",
      "60000/60000 [==============================] - 7s 110us/step - loss: 0.0020 - acc: 0.9890 - val_loss: 0.0068 - val_acc: 0.9611\n",
      "Epoch 98/120\n",
      "60000/60000 [==============================] - 7s 111us/step - loss: 0.0020 - acc: 0.9888 - val_loss: 0.0069 - val_acc: 0.9605\n",
      "Epoch 99/120\n",
      "60000/60000 [==============================] - 7s 109us/step - loss: 0.0020 - acc: 0.9889 - val_loss: 0.0068 - val_acc: 0.9615\n",
      "Epoch 100/120\n",
      "60000/60000 [==============================] - 6s 99us/step - loss: 0.0020 - acc: 0.9886 - val_loss: 0.0067 - val_acc: 0.9618\n",
      "Epoch 101/120\n",
      "60000/60000 [==============================] - 6s 97us/step - loss: 0.0019 - acc: 0.9897 - val_loss: 0.0071 - val_acc: 0.9596\n",
      "Epoch 102/120\n",
      "60000/60000 [==============================] - 6s 100us/step - loss: 0.0020 - acc: 0.9888 - val_loss: 0.0069 - val_acc: 0.9611\n",
      "Epoch 103/120\n",
      "60000/60000 [==============================] - 6s 92us/step - loss: 0.0019 - acc: 0.9897 - val_loss: 0.0071 - val_acc: 0.9601\n",
      "Epoch 104/120\n",
      "60000/60000 [==============================] - 6s 95us/step - loss: 0.0019 - acc: 0.9893 - val_loss: 0.0073 - val_acc: 0.9586\n",
      "Epoch 105/120\n",
      "60000/60000 [==============================] - 6s 98us/step - loss: 0.0021 - acc: 0.9884 - val_loss: 0.0068 - val_acc: 0.9615\n",
      "Epoch 106/120\n",
      "60000/60000 [==============================] - 6s 96us/step - loss: 0.0018 - acc: 0.9898 - val_loss: 0.0071 - val_acc: 0.9601\n",
      "Epoch 107/120\n",
      "60000/60000 [==============================] - 6s 93us/step - loss: 0.0019 - acc: 0.9894 - val_loss: 0.0072 - val_acc: 0.9588\n",
      "Epoch 108/120\n",
      "60000/60000 [==============================] - 6s 94us/step - loss: 0.0020 - acc: 0.9890 - val_loss: 0.0070 - val_acc: 0.9599\n",
      "Epoch 109/120\n",
      "60000/60000 [==============================] - 6s 95us/step - loss: 0.0019 - acc: 0.9892 - val_loss: 0.0070 - val_acc: 0.9591\n",
      "Epoch 110/120\n",
      "60000/60000 [==============================] - 6s 97us/step - loss: 0.0020 - acc: 0.9893 - val_loss: 0.0067 - val_acc: 0.9624\n",
      "Epoch 111/120\n",
      "60000/60000 [==============================] - 6s 98us/step - loss: 0.0020 - acc: 0.9889 - val_loss: 0.0068 - val_acc: 0.9603\n",
      "Epoch 112/120\n",
      "60000/60000 [==============================] - 6s 98us/step - loss: 0.0019 - acc: 0.9894 - val_loss: 0.0069 - val_acc: 0.9609\n",
      "Epoch 113/120\n",
      "60000/60000 [==============================] - 6s 95us/step - loss: 0.0020 - acc: 0.9889 - val_loss: 0.0069 - val_acc: 0.9608\n",
      "Epoch 114/120\n",
      "60000/60000 [==============================] - 6s 92us/step - loss: 0.0019 - acc: 0.9894 - val_loss: 0.0073 - val_acc: 0.9588\n",
      "Epoch 115/120\n",
      "60000/60000 [==============================] - 6s 92us/step - loss: 0.0019 - acc: 0.9894 - val_loss: 0.0067 - val_acc: 0.9621\n",
      "Epoch 116/120\n",
      "60000/60000 [==============================] - 6s 93us/step - loss: 0.0019 - acc: 0.9895 - val_loss: 0.0072 - val_acc: 0.9593\n",
      "Epoch 117/120\n"
     ]
    },
    {
     "name": "stdout",
     "output_type": "stream",
     "text": [
      "60000/60000 [==============================] - 6s 93us/step - loss: 0.0019 - acc: 0.9890 - val_loss: 0.0070 - val_acc: 0.9604\n",
      "Epoch 118/120\n",
      "60000/60000 [==============================] - 6s 102us/step - loss: 0.0018 - acc: 0.9899 - val_loss: 0.0068 - val_acc: 0.9607\n",
      "Epoch 119/120\n",
      "60000/60000 [==============================] - 6s 95us/step - loss: 0.0020 - acc: 0.9887 - val_loss: 0.0077 - val_acc: 0.9570\n",
      "Epoch 120/120\n",
      "60000/60000 [==============================] - 6s 95us/step - loss: 0.0020 - acc: 0.9887 - val_loss: 0.0069 - val_acc: 0.9601\n"
     ]
    }
   ],
   "source": [
    "history_nomal_dense_relu = model_nomal_dense_relu.fit(x_train_nomal, y_train, batch_size=64, epochs=120,\n",
    "                        verbose = 1,\n",
    "                        validation_data = (x_test_nomal, y_test))"
   ]
  },
  {
   "cell_type": "code",
   "execution_count": 246,
   "metadata": {},
   "outputs": [
    {
     "data": {
      "image/png": "[encoded data removed]",
      "text/plain": [
       "<Figure size 432x288 with 1 Axes>"
      ]
     },
     "metadata": {
      "needs_background": "light"
     },
     "output_type": "display_data"
    }
   ],
   "source": [
    "plt.plot(history_nomal_dense_relu.history[\"acc\"])\n",
    "plt.title(\"model_nomal_densel_relu training accuracy\")\n",
    "plt.ylabel(\"accuracy\")\n",
    "plt.xlabel(\"epoch\")\n",
    "plt.show()"
   ]
  },
  {
   "cell_type": "code",
   "execution_count": 247,
   "metadata": {},
   "outputs": [
    {
     "name": "stdout",
     "output_type": "stream",
     "text": [
      "10000/10000 [==============================] - 1s 70us/step\n",
      "loss: 0.009054598493874072\n",
      "正確率:  0.9547\n"
     ]
    }
   ],
   "source": [
    "score = model_nomal_dense_relu.evaluate(x_test, y_test)\n",
    "print('loss:', score[0])\n",
    "print('正確率: ', score[1])"
   ]
  },
  {
   "cell_type": "code",
   "execution_count": 248,
   "metadata": {},
   "outputs": [
    {
     "data": {
      "application/vnd.jupyter.widget-view+json": {
       "model_id": "5a69a16b78ce4827bcd20df0e322d2a2",
       "version_major": 2,
       "version_minor": 0
      },
      "text/plain": [
       "interactive(children=(IntSlider(value=4999, description='測試編號', max=9999), Button(description='Run Interact', …"
      ]
     },
     "metadata": {},
     "output_type": "display_data"
    },
    {
     "data": {
      "text/plain": [
       "<function __main__.test(測試編號)>"
      ]
     },
     "execution_count": 248,
     "metadata": {},
     "output_type": "execute_result"
    }
   ],
   "source": [
    "from ipywidgets import interact_manual\n",
    "predict = model.predict_classes(x_test)\n",
    "def test(測試編號):\n",
    "    plt.imshow(x_test[測試編號].reshape(28,28), cmap='Greys')\n",
    "    print('神經網路判斷為:', predict[測試編號], ' \\n答案為:', y_test[測試編號])\n",
    "interact_manual(test, 測試編號=(0, 9999))"
   ]
  },
  {
   "cell_type": "code",
   "execution_count": null,
   "metadata": {},
   "outputs": [],
   "source": []
  }
 ],
 "metadata": {
  "kernelspec": {
   "display_name": "Python 3",
   "language": "python",
   "name": "python3"
  },
  "language_info": {
   "codemirror_mode": {
    "name": "ipython",
    "version": 3
   },
   "file_extension": ".py",
   "mimetype": "text/x-python",
   "name": "python",
   "nbconvert_exporter": "python",
   "pygments_lexer": "ipython3",
   "version": "3.7.3"
  }
 },
 "nbformat": 4,
 "nbformat_minor": 2
}
