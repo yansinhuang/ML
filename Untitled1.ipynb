{
 "cells": [
  {
   "cell_type": "code",
   "execution_count": null,
   "metadata": {},
   "outputs": [],
   "source": [
    "import numpy as np\n",
    "import matplotlib.pyplot as plt\n",
    "import matplotlib as mpl\n",
    "import pandas as pd\n",
    "import locale\n",
    "\n",
    "# read csv\n",
    "data = pd.read_csv('/Users/yan/PYTHON/ML/75b640397916e1d9ed2e308abbc0eb7b_export.csv')\n",
    "\n",
    "# Chinese \n",
    "mpl.rc('font', family='Arial Unicode MS')\n",
    "\n",
    "# use the code below to roughly find the Chinese font we have (Chinese font mostly got bigger file)\n",
    "'''\n",
    "from matplotlib.font_manager import fontManager\n",
    "import os\n",
    "\n",
    "fonts = [font.name for font in fontManager.ttflist if\n",
    "         os.path.exists(font.fname) and os.stat(font.fname).st_size > 1e6]\n",
    "\n",
    "for font in fonts:\n",
    "    print(font)\n",
    "'''\n",
    "\n",
    "# fix coma problem\n",
    "locale.setlocale(locale.LC_NUMERIC, '')\n",
    "data['外籍旅客人數'] = data['外籍旅客人數'].apply(locale.atof)\n",
    "data['華僑旅客人數'] = data['華僑旅客人數'].apply(locale.atof)\n",
    "\n",
    "# 外籍旅客人數歷年變化圖\n",
    "data[:].plot.bar(x='年別', y=['外籍旅客人數'],  figsize=(25,15), title = '外籍旅客人數歷年變化圖', fontsize =16)\n",
    "\n",
    "# 華僑旅客人數歷年變化圖\n",
    "data[:].plot.bar(x='年別', y=['華僑旅客人數'],  figsize=(25,15), title = '華僑旅客人數歷年變化圖', fontsize =16)\n",
    "\n",
    "# show\n",
    "print(data.head())\n",
    "\n"
   ]
  }
 ],
 "metadata": {
  "kernelspec": {
   "display_name": "Python 3",
   "language": "python",
   "name": "python3"
  },
  "language_info": {
   "codemirror_mode": {
    "name": "ipython",
    "version": 3
   },
   "file_extension": ".py",
   "mimetype": "text/x-python",
   "name": "python",
   "nbconvert_exporter": "python",
   "pygments_lexer": "ipython3",
   "version": "3.7.0"
  }
 },
 "nbformat": 4,
 "nbformat_minor": 2
}
