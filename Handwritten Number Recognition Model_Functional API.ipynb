{
 "cells": [
  {
   "cell_type": "code",
   "execution_count": 4,
   "metadata": {},
   "outputs": [
    {
     "name": "stdout",
     "output_type": "stream",
     "text": [
      "env: KERAS_BACKEND=tensorflow\n"
     ]
    },
    {
     "name": "stderr",
     "output_type": "stream",
     "text": [
      "Using TensorFlow backend.\n"
     ]
    }
   ],
   "source": [
    "%env KERAS_BACKEND=tensorflow\n",
    "%matplotlib inline\n",
    "# Keras functions\n",
    "from keras.models import Sequential\n",
    "from keras.layers import Dense, Activation\n",
    "from keras.optimizers import SGD\n",
    "\n",
    "# Keras dataset\n",
    "from keras.datasets import mnist\n",
    "\n",
    "# Keras utils\n",
    "from keras.utils import np_utils"
   ]
  },
  {
   "cell_type": "markdown",
   "metadata": {},
   "source": [
    "# 1. Read MNIST Data Set"
   ]
  },
  {
   "cell_type": "code",
   "execution_count": 5,
   "metadata": {},
   "outputs": [],
   "source": [
    "(x_train0, y_train0), (x_test0, y_test0) = mnist.load_data()"
   ]
  },
  {
   "cell_type": "markdown",
   "metadata": {},
   "source": [
    "# 2. Clean the Data"
   ]
  },
  {
   "cell_type": "markdown",
   "metadata": {},
   "source": [
    "Reshape"
   ]
  },
  {
   "cell_type": "code",
   "execution_count": 6,
   "metadata": {},
   "outputs": [],
   "source": [
    "x_train = x_train0.reshape(60000, 28*28)\n",
    "x_test = x_test0.reshape(10000, 28*28)"
   ]
  },
  {
   "cell_type": "markdown",
   "metadata": {},
   "source": [
    "Nomalization"
   ]
  },
  {
   "cell_type": "code",
   "execution_count": 7,
   "metadata": {},
   "outputs": [],
   "source": [
    "x_train -= x_train.min()\n",
    "x_train = x_train/x_train.max()"
   ]
  },
  {
   "cell_type": "markdown",
   "metadata": {},
   "source": [
    "Catogorize"
   ]
  },
  {
   "cell_type": "code",
   "execution_count": 8,
   "metadata": {},
   "outputs": [],
   "source": [
    "y_train = np_utils.to_categorical(y_train0, 10)\n",
    "y_test = np_utils.to_categorical(y_test0, 10)"
   ]
  },
  {
   "cell_type": "markdown",
   "metadata": {},
   "source": [
    "Labeling : \n",
    "Prime = 0; Not prime = 1"
   ]
  },
  {
   "cell_type": "markdown",
   "metadata": {},
   "source": [
    "# 3. Build the Model"
   ]
  },
  {
   "cell_type": "code",
   "execution_count": 10,
   "metadata": {},
   "outputs": [],
   "source": [
    "from keras.models import Model\n",
    "from keras.layers import Input"
   ]
  },
  {
   "cell_type": "code",
   "execution_count": 11,
   "metadata": {},
   "outputs": [],
   "source": [
    "f_1 = Dense(500, activation='sigmoid')\n",
    "\n",
    "f_2 = Dense(500, activation='sigmoid')\n",
    "f_3 = Dense(500, activation='sigmoid')\n",
    "\n",
    "f_5 = Dense(500, activation='relu')\n",
    "f_6 = Dense(500, activation='relu')\n",
    "\n",
    "f_4 = Dense(10, activation='softmax')"
   ]
  },
  {
   "cell_type": "code",
   "execution_count": 12,
   "metadata": {},
   "outputs": [],
   "source": [
    "from keras.layers import concatenate, add"
   ]
  },
  {
   "cell_type": "code",
   "execution_count": 13,
   "metadata": {},
   "outputs": [
    {
     "name": "stdout",
     "output_type": "stream",
     "text": [
      "WARNING:tensorflow:From /Users/yan/anaconda3/lib/python3.7/site-packages/tensorflow/python/framework/op_def_library.py:263: colocate_with (from tensorflow.python.framework.ops) is deprecated and will be removed in a future version.\n",
      "Instructions for updating:\n",
      "Colocations handled automatically by placer.\n"
     ]
    }
   ],
   "source": [
    "x = Input(shape=(784,))\n",
    "\n",
    "h_1 = f_1(x)\n",
    "h_2u = f_2(h_1)\n",
    "h_2d = f_5(h_1)\n",
    "h_3u = f_3(h_2u)\n",
    "h_3d = f_6(h_2d)\n",
    "\n",
    "ud = concatenate([h_3u, h_3d])\n",
    "\n",
    "y = f_4(ud)"
   ]
  },
  {
   "cell_type": "code",
   "execution_count": 14,
   "metadata": {},
   "outputs": [
    {
     "name": "stdout",
     "output_type": "stream",
     "text": [
      "__________________________________________________________________________________________________\n",
      "Layer (type)                    Output Shape         Param #     Connected to                     \n",
      "==================================================================================================\n",
      "input_1 (InputLayer)            (None, 784)          0                                            \n",
      "__________________________________________________________________________________________________\n",
      "dense_1 (Dense)                 (None, 500)          392500      input_1[0][0]                    \n",
      "__________________________________________________________________________________________________\n",
      "dense_2 (Dense)                 (None, 500)          250500      dense_1[0][0]                    \n",
      "__________________________________________________________________________________________________\n",
      "dense_4 (Dense)                 (None, 500)          250500      dense_1[0][0]                    \n",
      "__________________________________________________________________________________________________\n",
      "dense_3 (Dense)                 (None, 500)          250500      dense_2[0][0]                    \n",
      "__________________________________________________________________________________________________\n",
      "dense_5 (Dense)                 (None, 500)          250500      dense_4[0][0]                    \n",
      "__________________________________________________________________________________________________\n",
      "concatenate_1 (Concatenate)     (None, 1000)         0           dense_3[0][0]                    \n",
      "                                                                 dense_5[0][0]                    \n",
      "__________________________________________________________________________________________________\n",
      "dense_6 (Dense)                 (None, 10)           10010       concatenate_1[0][0]              \n",
      "==================================================================================================\n",
      "Total params: 1,404,510\n",
      "Trainable params: 1,404,510\n",
      "Non-trainable params: 0\n",
      "__________________________________________________________________________________________________\n"
     ]
    }
   ],
   "source": [
    "model_prime = Model(x, y)\n",
    "model_prime.summary()"
   ]
  },
  {
   "cell_type": "code",
   "execution_count": 15,
   "metadata": {},
   "outputs": [],
   "source": [
    "from keras.optimizers import Adam\n",
    "from keras.optimizers import Adadelta"
   ]
  },
  {
   "cell_type": "code",
   "execution_count": 16,
   "metadata": {},
   "outputs": [],
   "source": [
    "model_prime.compile(loss='mse', optimizer=Adadelta(lr=1), metrics=['accuracy'])"
   ]
  },
  {
   "cell_type": "code",
   "execution_count": 20,
   "metadata": {},
   "outputs": [
    {
     "name": "stdout",
     "output_type": "stream",
     "text": [
      "Train on 60000 samples, validate on 10000 samples\n",
      "Epoch 1/20\n",
      "60000/60000 [==============================] - 58s 970us/step - loss: 0.0146 - acc: 0.9037 - val_loss: 0.0192 - val_acc: 0.8828\n",
      "Epoch 2/20\n",
      "60000/60000 [==============================] - 56s 934us/step - loss: 0.0132 - acc: 0.9128 - val_loss: 0.0160 - val_acc: 0.9004\n",
      "Epoch 3/20\n",
      "60000/60000 [==============================] - 56s 941us/step - loss: 0.0121 - acc: 0.9200 - val_loss: 0.0143 - val_acc: 0.9129\n",
      "Epoch 4/20\n",
      "60000/60000 [==============================] - 57s 950us/step - loss: 0.0114 - acc: 0.9255 - val_loss: 0.0134 - val_acc: 0.9184\n",
      "Epoch 5/20\n",
      "60000/60000 [==============================] - 59s 984us/step - loss: 0.0106 - acc: 0.9316 - val_loss: 0.0118 - val_acc: 0.9286\n",
      "Epoch 6/20\n",
      "60000/60000 [==============================] - 57s 952us/step - loss: 0.0100 - acc: 0.9348 - val_loss: 0.0110 - val_acc: 0.9337\n",
      "Epoch 7/20\n",
      "60000/60000 [==============================] - 58s 966us/step - loss: 0.0093 - acc: 0.9394 - val_loss: 0.0104 - val_acc: 0.9373\n",
      "Epoch 8/20\n",
      "60000/60000 [==============================] - 57s 958us/step - loss: 0.0088 - acc: 0.9429 - val_loss: 0.0098 - val_acc: 0.9419\n",
      "Epoch 9/20\n",
      "60000/60000 [==============================] - 58s 965us/step - loss: 0.0083 - acc: 0.9462 - val_loss: 0.0091 - val_acc: 0.9435\n",
      "Epoch 10/20\n",
      "60000/60000 [==============================] - 58s 969us/step - loss: 0.0080 - acc: 0.9479 - val_loss: 0.0092 - val_acc: 0.9442\n",
      "Epoch 11/20\n",
      "60000/60000 [==============================] - 59s 979us/step - loss: 0.0076 - acc: 0.9513 - val_loss: 0.0096 - val_acc: 0.9419\n",
      "Epoch 12/20\n",
      "60000/60000 [==============================] - 58s 959us/step - loss: 0.0073 - acc: 0.9527 - val_loss: 0.0081 - val_acc: 0.9508\n",
      "Epoch 13/20\n",
      "60000/60000 [==============================] - 59s 984us/step - loss: 0.0070 - acc: 0.9546 - val_loss: 0.0089 - val_acc: 0.9463\n",
      "Epoch 14/20\n",
      "60000/60000 [==============================] - 60s 997us/step - loss: 0.0067 - acc: 0.9565 - val_loss: 0.0089 - val_acc: 0.9456\n",
      "Epoch 15/20\n",
      "60000/60000 [==============================] - 60s 1ms/step - loss: 0.0065 - acc: 0.9589 - val_loss: 0.0082 - val_acc: 0.9506\n",
      "Epoch 16/20\n",
      "60000/60000 [==============================] - 60s 997us/step - loss: 0.0062 - acc: 0.9608 - val_loss: 0.0080 - val_acc: 0.9511\n",
      "Epoch 17/20\n",
      "60000/60000 [==============================] - 61s 1ms/step - loss: 0.0060 - acc: 0.9617 - val_loss: 0.0076 - val_acc: 0.9543\n",
      "Epoch 18/20\n",
      "60000/60000 [==============================] - 61s 1ms/step - loss: 0.0058 - acc: 0.9629 - val_loss: 0.0086 - val_acc: 0.9476\n",
      "Epoch 19/20\n",
      "60000/60000 [==============================] - 60s 998us/step - loss: 0.0056 - acc: 0.9642 - val_loss: 0.0078 - val_acc: 0.9522\n",
      "Epoch 20/20\n",
      "60000/60000 [==============================] - 66s 1ms/step - loss: 0.0054 - acc: 0.9655 - val_loss: 0.0077 - val_acc: 0.9518\n"
     ]
    }
   ],
   "source": [
    "history_prime = model_prime.fit(x_train, y_train, batch_size=100, epochs=20,\n",
    "                        verbose = 1, validation_data = (x_test, y_test))"
   ]
  },
  {
   "cell_type": "markdown",
   "metadata": {},
   "source": [
    "# 4. figure"
   ]
  },
  {
   "cell_type": "code",
   "execution_count": 21,
   "metadata": {},
   "outputs": [],
   "source": [
    "import matplotlib.pyplot as plt"
   ]
  },
  {
   "cell_type": "code",
   "execution_count": 23,
   "metadata": {},
   "outputs": [
    {
     "data": {
      "image/png": "[encoded data removed]",
      "text/plain": [
       "<Figure size 432x288 with 1 Axes>"
      ]
     },
     "metadata": {
      "needs_background": "light"
     },
     "output_type": "display_data"
    }
   ],
   "source": [
    "plt.plot(history_prime.history[\"acc\"])\n",
    "\n",
    "plt.title(\"model training accuracy\")\n",
    "plt.ylabel(\"accuracy\")\n",
    "plt.xlabel(\"epoch\")\n",
    "\n",
    "plt.show()"
   ]
  }
 ],
 "metadata": {
  "kernelspec": {
   "display_name": "Python 3",
   "language": "python",
   "name": "python3"
  },
  "language_info": {
   "codemirror_mode": {
    "name": "ipython",
    "version": 3
   },
   "file_extension": ".py",
   "mimetype": "text/x-python",
   "name": "python",
   "nbconvert_exporter": "python",
   "pygments_lexer": "ipython3",
   "version": "3.7.3"
  }
 },
 "nbformat": 4,
 "nbformat_minor": 2
}
