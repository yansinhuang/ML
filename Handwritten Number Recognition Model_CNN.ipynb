{
 "cells": [
  {
   "cell_type": "code",
   "execution_count": 31,
   "metadata": {},
   "outputs": [
    {
     "name": "stdout",
     "output_type": "stream",
     "text": [
      "env: KERAS_BACKEND=tensorflow\n",
      "env: KERAS_BACKEND=tensorflow\n"
     ]
    }
   ],
   "source": [
    "%env KERAS_BACKEND=tensorflow\n",
    "%matplotlib inline\n",
    "# Keras functions\n",
    "from keras.models import Sequential\n",
    "from keras.layers import Dense, Activation, Flatten, Dropout\n",
    "from keras.optimizers import SGD\n",
    "\n",
    "# Keras dataset\n",
    "from keras.datasets import mnist\n",
    "\n",
    "# Keras utils\n",
    "from keras.utils import np_utils"
   ]
  },
  {
   "cell_type": "markdown",
   "metadata": {},
   "source": [
    "# 1. Read MNIST Data Set"
   ]
  },
  {
   "cell_type": "code",
   "execution_count": 57,
   "metadata": {},
   "outputs": [],
   "source": [
    "(x_train, y_train), (x_test, y_test) = mnist.load_data()"
   ]
  },
  {
   "cell_type": "markdown",
   "metadata": {},
   "source": [
    "# 2. Clean the Data"
   ]
  },
  {
   "cell_type": "markdown",
   "metadata": {},
   "source": [
    "1 channel"
   ]
  },
  {
   "cell_type": "code",
   "execution_count": 58,
   "metadata": {},
   "outputs": [],
   "source": [
    "x_train = x_train.reshape(60000, 28, 28, 1)\n",
    "x_test = x_test.reshape(10000, 28, 28, 1)"
   ]
  },
  {
   "cell_type": "markdown",
   "metadata": {},
   "source": [
    "one-hot encoding"
   ]
  },
  {
   "cell_type": "code",
   "execution_count": 59,
   "metadata": {},
   "outputs": [],
   "source": [
    "y_train = np_utils.to_categorical(y_train0, 10)\n",
    "y_test = np_utils.to_categorical(y_test0, 10)"
   ]
  },
  {
   "cell_type": "markdown",
   "metadata": {},
   "source": [
    "transfer to range (0,1)"
   ]
  },
  {
   "cell_type": "code",
   "execution_count": 60,
   "metadata": {},
   "outputs": [],
   "source": [
    "x_train = x_train/x_train.max()\n",
    "x_test = x_test/x_test.max()"
   ]
  },
  {
   "cell_type": "markdown",
   "metadata": {},
   "source": [
    "# 3. Build the model - CNN"
   ]
  },
  {
   "cell_type": "code",
   "execution_count": 61,
   "metadata": {},
   "outputs": [],
   "source": [
    "model = Sequential()"
   ]
  },
  {
   "cell_type": "markdown",
   "metadata": {},
   "source": [
    "CNN"
   ]
  },
  {
   "cell_type": "code",
   "execution_count": 62,
   "metadata": {},
   "outputs": [],
   "source": [
    "from keras.layers import Conv2D, MaxPool2D"
   ]
  },
  {
   "cell_type": "code",
   "execution_count": 63,
   "metadata": {},
   "outputs": [],
   "source": [
    "model.add(Conv2D(4, (3, 3), padding='same', input_shape=(28, 28, 1))) # layer 1\n",
    "model.add(Activation('relu'))\n",
    "model.add(MaxPool2D(pool_size=(2,2))) # max-pooling\n",
    "model.add(Conv2D(8, (3, 3), padding='same')) # layer 2\n",
    "model.add(Activation('relu'))\n",
    "model.add(MaxPool2D(pool_size=(2,2))) # max-pooling\n",
    "model.add(Conv2D(16, (3, 3), padding='same'))\n",
    "model.add(Activation('relu')) # layer 3\n",
    "model.add(MaxPool2D(pool_size=(2,2))) # max-pooling"
   ]
  },
  {
   "cell_type": "markdown",
   "metadata": {},
   "source": [
    "common neural network"
   ]
  },
  {
   "cell_type": "code",
   "execution_count": 64,
   "metadata": {},
   "outputs": [],
   "source": [
    "#model.add(Dropout(0.25)) # to avoid overfitting"
   ]
  },
  {
   "cell_type": "code",
   "execution_count": 65,
   "metadata": {},
   "outputs": [],
   "source": [
    "model.add(Flatten())\n",
    "model.add(Dense(20))\n",
    "model.add(Activation('relu'))"
   ]
  },
  {
   "cell_type": "markdown",
   "metadata": {},
   "source": [
    "output layer"
   ]
  },
  {
   "cell_type": "code",
   "execution_count": 66,
   "metadata": {},
   "outputs": [],
   "source": [
    "model.add(Dense(10))\n",
    "model.add(Activation('softmax'))"
   ]
  },
  {
   "cell_type": "markdown",
   "metadata": {},
   "source": [
    "compile"
   ]
  },
  {
   "cell_type": "code",
   "execution_count": 67,
   "metadata": {},
   "outputs": [],
   "source": [
    "model.compile(loss='mse', optimizer=SGD(lr=0.07), metrics=['accuracy'])"
   ]
  },
  {
   "cell_type": "code",
   "execution_count": 68,
   "metadata": {},
   "outputs": [
    {
     "name": "stdout",
     "output_type": "stream",
     "text": [
      "_________________________________________________________________\n",
      "Layer (type)                 Output Shape              Param #   \n",
      "=================================================================\n",
      "conv2d_9 (Conv2D)            (None, 28, 28, 4)         40        \n",
      "_________________________________________________________________\n",
      "activation_11 (Activation)   (None, 28, 28, 4)         0         \n",
      "_________________________________________________________________\n",
      "max_pooling2d_7 (MaxPooling2 (None, 14, 14, 4)         0         \n",
      "_________________________________________________________________\n",
      "conv2d_10 (Conv2D)           (None, 14, 14, 8)         296       \n",
      "_________________________________________________________________\n",
      "activation_12 (Activation)   (None, 14, 14, 8)         0         \n",
      "_________________________________________________________________\n",
      "max_pooling2d_8 (MaxPooling2 (None, 7, 7, 8)           0         \n",
      "_________________________________________________________________\n",
      "conv2d_11 (Conv2D)           (None, 7, 7, 16)          1168      \n",
      "_________________________________________________________________\n",
      "activation_13 (Activation)   (None, 7, 7, 16)          0         \n",
      "_________________________________________________________________\n",
      "max_pooling2d_9 (MaxPooling2 (None, 3, 3, 16)          0         \n",
      "_________________________________________________________________\n",
      "flatten_4 (Flatten)          (None, 144)               0         \n",
      "_________________________________________________________________\n",
      "dense_5 (Dense)              (None, 20)                2900      \n",
      "_________________________________________________________________\n",
      "activation_14 (Activation)   (None, 20)                0         \n",
      "_________________________________________________________________\n",
      "dense_6 (Dense)              (None, 10)                210       \n",
      "_________________________________________________________________\n",
      "activation_15 (Activation)   (None, 10)                0         \n",
      "=================================================================\n",
      "Total params: 4,614\n",
      "Trainable params: 4,614\n",
      "Non-trainable params: 0\n",
      "_________________________________________________________________\n",
      "_________________________________________________________________\n",
      "Layer (type)                 Output Shape              Param #   \n",
      "=================================================================\n",
      "conv2d_9 (Conv2D)            (None, 28, 28, 4)         40        \n",
      "_________________________________________________________________\n",
      "activation_11 (Activation)   (None, 28, 28, 4)         0         \n",
      "_________________________________________________________________\n",
      "max_pooling2d_7 (MaxPooling2 (None, 14, 14, 4)         0         \n",
      "_________________________________________________________________\n",
      "conv2d_10 (Conv2D)           (None, 14, 14, 8)         296       \n",
      "_________________________________________________________________\n",
      "activation_12 (Activation)   (None, 14, 14, 8)         0         \n",
      "_________________________________________________________________\n",
      "max_pooling2d_8 (MaxPooling2 (None, 7, 7, 8)           0         \n",
      "_________________________________________________________________\n",
      "conv2d_11 (Conv2D)           (None, 7, 7, 16)          1168      \n",
      "_________________________________________________________________\n",
      "activation_13 (Activation)   (None, 7, 7, 16)          0         \n",
      "_________________________________________________________________\n",
      "max_pooling2d_9 (MaxPooling2 (None, 3, 3, 16)          0         \n",
      "_________________________________________________________________\n",
      "flatten_4 (Flatten)          (None, 144)               0         \n",
      "_________________________________________________________________\n",
      "dense_5 (Dense)              (None, 20)                2900      \n",
      "_________________________________________________________________\n",
      "activation_14 (Activation)   (None, 20)                0         \n",
      "_________________________________________________________________\n",
      "dense_6 (Dense)              (None, 10)                210       \n",
      "_________________________________________________________________\n",
      "activation_15 (Activation)   (None, 10)                0         \n",
      "=================================================================\n",
      "Total params: 4,614\n",
      "Trainable params: 4,614\n",
      "Non-trainable params: 0\n",
      "_________________________________________________________________\n"
     ]
    }
   ],
   "source": [
    "model.summary()"
   ]
  },
  {
   "cell_type": "code",
   "execution_count": 71,
   "metadata": {},
   "outputs": [
    {
     "name": "stdout",
     "output_type": "stream",
     "text": [
      "Epoch 1/10\n",
      "  100/60000 [..............................] - ETA: 38s - loss: 0.0080 - acc: 0.9700Epoch 1/10\n",
      "60000/60000 [==============================] - 40s 666us/step - loss: 0.0066 - acc: 0.9583\n",
      "Epoch 2/10\n",
      "60000/60000 [==============================] - 40s 666us/step - loss: 0.0066 - acc: 0.9583\n",
      "Epoch 2/10\n",
      "60000/60000 [==============================] - 40s 667us/step - loss: 0.0063 - acc: 0.9587\n",
      "60000/60000 [==============================] - 40s 667us/step - loss: 0.0063 - acc: 0.9587\n",
      "Epoch 3/10\n",
      "  100/60000 [..............................] - ETA: 40s - loss: 0.0075 - acc: 0.9500Epoch 3/10\n",
      "60000/60000 [==============================] - 40s 672us/step - loss: 0.0061 - acc: 0.9608\n",
      "Epoch 4/10\n",
      "60000/60000 [==============================] - 40s 672us/step - loss: 0.0061 - acc: 0.9608\n",
      "Epoch 4/10\n",
      "60000/60000 [==============================] - 41s 680us/step - loss: 0.0059 - acc: 0.9616\n",
      "60000/60000 [==============================] - 41s 680us/step - loss: 0.0059 - acc: 0.9616\n",
      "Epoch 5/10\n",
      "Epoch 5/10\n",
      "60000/60000 [==============================] - 41s 680us/step - loss: 0.0058 - acc: 0.9628\n",
      "60000/60000 [==============================] - 41s 680us/step - loss: 0.0058 - acc: 0.9628\n",
      "Epoch 6/10\n",
      "Epoch 6/10\n",
      "60000/60000 [==============================] - 41s 684us/step - loss: 0.0056 - acc: 0.9640\n",
      "60000/60000 [==============================] - 41s 684us/step - loss: 0.0056 - acc: 0.9640\n",
      "Epoch 7/10\n",
      "Epoch 7/10\n",
      "60000/60000 [==============================] - 41s 682us/step - loss: 0.0054 - acc: 0.9644\n",
      "60000/60000 [==============================] - 41s 682us/step - loss: 0.0054 - acc: 0.9644\n",
      "Epoch 8/10\n",
      "Epoch 8/10\n",
      "60000/60000 [==============================] - 41s 689us/step - loss: 0.0053 - acc: 0.9652\n",
      "60000/60000 [==============================] - 41s 689us/step - loss: 0.0053 - acc: 0.9652\n",
      "Epoch 9/10\n",
      "Epoch 9/10\n",
      "60000/60000 [==============================] - 42s 694us/step - loss: 0.0052 - acc: 0.9663\n",
      "60000/60000 [==============================] - 42s 694us/step - loss: 0.0052 - acc: 0.9663\n",
      "Epoch 10/10\n",
      "Epoch 10/10\n",
      "60000/60000 [==============================] - 42s 698us/step - loss: 0.0051 - acc: 0.9673\n",
      "60000/60000 [==============================] - 42s 698us/step - loss: 0.0051 - acc: 0.9673\n"
     ]
    },
    {
     "data": {
      "text/plain": [
       "<keras.callbacks.History at 0xb37a912e8>"
      ]
     },
     "execution_count": 71,
     "metadata": {},
     "output_type": "execute_result"
    },
    {
     "data": {
      "text/plain": [
       "<keras.callbacks.History at 0xb37a912e8>"
      ]
     },
     "execution_count": 71,
     "metadata": {},
     "output_type": "execute_result"
    }
   ],
   "source": [
    "model.fit(x_train, y_train, batch_size=100, epochs=10)"
   ]
  },
  {
   "cell_type": "code",
   "execution_count": 72,
   "metadata": {},
   "outputs": [
    {
     "name": "stdout",
     "output_type": "stream",
     "text": [
      "10000/10000 [==============================] - 2s 248us/step\n",
      "10000/10000 [==============================] - 2s 248us/step\n"
     ]
    }
   ],
   "source": [
    "score = model.evaluate(x_test, y_test)"
   ]
  },
  {
   "cell_type": "code",
   "execution_count": 73,
   "metadata": {},
   "outputs": [
    {
     "data": {
      "text/plain": [
       "[0.004633555498037458, 0.9699]"
      ]
     },
     "execution_count": 73,
     "metadata": {},
     "output_type": "execute_result"
    },
    {
     "data": {
      "text/plain": [
       "[0.004633555498037458, 0.9699]"
      ]
     },
     "execution_count": 73,
     "metadata": {},
     "output_type": "execute_result"
    }
   ],
   "source": [
    "score"
   ]
  },
  {
   "cell_type": "code",
   "execution_count": null,
   "metadata": {},
   "outputs": [],
   "source": []
  }
 ],
 "metadata": {
  "kernelspec": {
   "display_name": "Python 3",
   "language": "python",
   "name": "python3"
  },
  "language_info": {
   "codemirror_mode": {
    "name": "ipython",
    "version": 3
   },
   "file_extension": ".py",
   "mimetype": "text/x-python",
   "name": "python",
   "nbconvert_exporter": "python",
   "pygments_lexer": "ipython3",
   "version": "3.7.3"
  }
 },
 "nbformat": 4,
 "nbformat_minor": 2
}
